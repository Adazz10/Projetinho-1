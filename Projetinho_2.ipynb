{
  "nbformat": 4,
  "nbformat_minor": 0,
  "metadata": {
    "colab": {
      "name": "Cópia de Projetinho 2.ipynb",
      "provenance": [],
      "collapsed_sections": [
        "8YqWZFIKdY9e",
        "RtS8tNUbUO1G",
        "MpB5U-qc08ep",
        "uS3e7Y9U9GGD",
        "tRnXtQvO0ppY",
        "7X9YdO5USogK",
        "G9oIBzWsSNBT",
        "A-uJ4ijWSQS8",
        "lHMHzF1aummK",
        "A53bRvg3FbFU",
        "aNWirebiboOK",
        "WXDi37naRFhO"
      ],
      "authorship_tag": "ABX9TyNh9ccJAHLFUyW1wij9vdHL",
      "include_colab_link": true
    },
    "kernelspec": {
      "display_name": "Python 3",
      "name": "python3"
    },
    "language_info": {
      "name": "python"
    }
  },
  "cells": [
    {
      "cell_type": "markdown",
      "metadata": {
        "id": "view-in-github",
        "colab_type": "text"
      },
      "source": [
        "<a href=\"https://colab.research.google.com/github/Adazz10/Projetinho-1/blob/main/Projetinho_2.ipynb\" target=\"_parent\"><img src=\"https://colab.research.google.com/assets/colab-badge.svg\" alt=\"Open In Colab\"/></a>"
      ]
    },
    {
      "cell_type": "markdown",
      "metadata": {
        "id": "bIEn06frImR_"
      },
      "source": [
        "#Conhecendo os dados de treino e de teste"
      ]
    },
    {
      "cell_type": "code",
      "metadata": {
        "id": "DMT93NtdunUn"
      },
      "source": [
        "# Importando as bibliotecas.\n",
        "import numpy as np\n",
        "import matplotlib.pyplot as plt\n",
        "import pandas as pd\n",
        "import seaborn as sns\n",
        "from natsort import natsorted, ns\n",
        "from natsort import natsort_keygen\n",
        "%matplotlib inline"
      ],
      "execution_count": 13,
      "outputs": []
    },
    {
      "cell_type": "code",
      "metadata": {
        "id": "IY98ljseI-rs"
      },
      "source": [
        "# Importando os datasets sobre cientistas de dados.\n",
        "\n",
        "test = pd.read_csv(\"test.csv\")     # O dataset que será usado para previsão.\n",
        "train = pd.read_csv(\"train.csv\")   # O dataset que será usado para o treino."
      ],
      "execution_count": 14,
      "outputs": []
    },
    {
      "cell_type": "code",
      "metadata": {
        "colab": {
          "base_uri": "https://localhost:8080/",
          "height": 530
        },
        "id": "jSae7oPGRUPK",
        "outputId": "1b73702e-a749-4f87-92c4-8f2f02ad7d41"
      },
      "source": [
        "# Vendo um pouco do dataset de treino\n",
        "\n",
        "train"
      ],
      "execution_count": 15,
      "outputs": [
        {
          "output_type": "execute_result",
          "data": {
            "text/html": [
              "<div>\n",
              "<style scoped>\n",
              "    .dataframe tbody tr th:only-of-type {\n",
              "        vertical-align: middle;\n",
              "    }\n",
              "\n",
              "    .dataframe tbody tr th {\n",
              "        vertical-align: top;\n",
              "    }\n",
              "\n",
              "    .dataframe thead th {\n",
              "        text-align: right;\n",
              "    }\n",
              "</style>\n",
              "<table border=\"1\" class=\"dataframe\">\n",
              "  <thead>\n",
              "    <tr style=\"text-align: right;\">\n",
              "      <th></th>\n",
              "      <th>enrollee_id</th>\n",
              "      <th>city</th>\n",
              "      <th>city_development_index</th>\n",
              "      <th>gender</th>\n",
              "      <th>relevent_experience</th>\n",
              "      <th>enrolled_university</th>\n",
              "      <th>education_level</th>\n",
              "      <th>major_discipline</th>\n",
              "      <th>experience</th>\n",
              "      <th>company_size</th>\n",
              "      <th>company_type</th>\n",
              "      <th>last_new_job</th>\n",
              "      <th>training_hours</th>\n",
              "      <th>target</th>\n",
              "    </tr>\n",
              "  </thead>\n",
              "  <tbody>\n",
              "    <tr>\n",
              "      <th>0</th>\n",
              "      <td>8949</td>\n",
              "      <td>city_103</td>\n",
              "      <td>0.920</td>\n",
              "      <td>Male</td>\n",
              "      <td>Has relevent experience</td>\n",
              "      <td>no_enrollment</td>\n",
              "      <td>Graduate</td>\n",
              "      <td>STEM</td>\n",
              "      <td>&gt;20</td>\n",
              "      <td>NaN</td>\n",
              "      <td>NaN</td>\n",
              "      <td>1</td>\n",
              "      <td>36</td>\n",
              "      <td>1.0</td>\n",
              "    </tr>\n",
              "    <tr>\n",
              "      <th>1</th>\n",
              "      <td>29725</td>\n",
              "      <td>city_40</td>\n",
              "      <td>0.776</td>\n",
              "      <td>Male</td>\n",
              "      <td>No relevent experience</td>\n",
              "      <td>no_enrollment</td>\n",
              "      <td>Graduate</td>\n",
              "      <td>STEM</td>\n",
              "      <td>15</td>\n",
              "      <td>50-99</td>\n",
              "      <td>Pvt Ltd</td>\n",
              "      <td>&gt;4</td>\n",
              "      <td>47</td>\n",
              "      <td>0.0</td>\n",
              "    </tr>\n",
              "    <tr>\n",
              "      <th>2</th>\n",
              "      <td>11561</td>\n",
              "      <td>city_21</td>\n",
              "      <td>0.624</td>\n",
              "      <td>NaN</td>\n",
              "      <td>No relevent experience</td>\n",
              "      <td>Full time course</td>\n",
              "      <td>Graduate</td>\n",
              "      <td>STEM</td>\n",
              "      <td>5</td>\n",
              "      <td>NaN</td>\n",
              "      <td>NaN</td>\n",
              "      <td>never</td>\n",
              "      <td>83</td>\n",
              "      <td>0.0</td>\n",
              "    </tr>\n",
              "    <tr>\n",
              "      <th>3</th>\n",
              "      <td>33241</td>\n",
              "      <td>city_115</td>\n",
              "      <td>0.789</td>\n",
              "      <td>NaN</td>\n",
              "      <td>No relevent experience</td>\n",
              "      <td>NaN</td>\n",
              "      <td>Graduate</td>\n",
              "      <td>Business Degree</td>\n",
              "      <td>&lt;1</td>\n",
              "      <td>NaN</td>\n",
              "      <td>Pvt Ltd</td>\n",
              "      <td>never</td>\n",
              "      <td>52</td>\n",
              "      <td>1.0</td>\n",
              "    </tr>\n",
              "    <tr>\n",
              "      <th>4</th>\n",
              "      <td>666</td>\n",
              "      <td>city_162</td>\n",
              "      <td>0.767</td>\n",
              "      <td>Male</td>\n",
              "      <td>Has relevent experience</td>\n",
              "      <td>no_enrollment</td>\n",
              "      <td>Masters</td>\n",
              "      <td>STEM</td>\n",
              "      <td>&gt;20</td>\n",
              "      <td>50-99</td>\n",
              "      <td>Funded Startup</td>\n",
              "      <td>4</td>\n",
              "      <td>8</td>\n",
              "      <td>0.0</td>\n",
              "    </tr>\n",
              "    <tr>\n",
              "      <th>...</th>\n",
              "      <td>...</td>\n",
              "      <td>...</td>\n",
              "      <td>...</td>\n",
              "      <td>...</td>\n",
              "      <td>...</td>\n",
              "      <td>...</td>\n",
              "      <td>...</td>\n",
              "      <td>...</td>\n",
              "      <td>...</td>\n",
              "      <td>...</td>\n",
              "      <td>...</td>\n",
              "      <td>...</td>\n",
              "      <td>...</td>\n",
              "      <td>...</td>\n",
              "    </tr>\n",
              "    <tr>\n",
              "      <th>19153</th>\n",
              "      <td>7386</td>\n",
              "      <td>city_173</td>\n",
              "      <td>0.878</td>\n",
              "      <td>Male</td>\n",
              "      <td>No relevent experience</td>\n",
              "      <td>no_enrollment</td>\n",
              "      <td>Graduate</td>\n",
              "      <td>Humanities</td>\n",
              "      <td>14</td>\n",
              "      <td>NaN</td>\n",
              "      <td>NaN</td>\n",
              "      <td>1</td>\n",
              "      <td>42</td>\n",
              "      <td>1.0</td>\n",
              "    </tr>\n",
              "    <tr>\n",
              "      <th>19154</th>\n",
              "      <td>31398</td>\n",
              "      <td>city_103</td>\n",
              "      <td>0.920</td>\n",
              "      <td>Male</td>\n",
              "      <td>Has relevent experience</td>\n",
              "      <td>no_enrollment</td>\n",
              "      <td>Graduate</td>\n",
              "      <td>STEM</td>\n",
              "      <td>14</td>\n",
              "      <td>NaN</td>\n",
              "      <td>NaN</td>\n",
              "      <td>4</td>\n",
              "      <td>52</td>\n",
              "      <td>1.0</td>\n",
              "    </tr>\n",
              "    <tr>\n",
              "      <th>19155</th>\n",
              "      <td>24576</td>\n",
              "      <td>city_103</td>\n",
              "      <td>0.920</td>\n",
              "      <td>Male</td>\n",
              "      <td>Has relevent experience</td>\n",
              "      <td>no_enrollment</td>\n",
              "      <td>Graduate</td>\n",
              "      <td>STEM</td>\n",
              "      <td>&gt;20</td>\n",
              "      <td>50-99</td>\n",
              "      <td>Pvt Ltd</td>\n",
              "      <td>4</td>\n",
              "      <td>44</td>\n",
              "      <td>0.0</td>\n",
              "    </tr>\n",
              "    <tr>\n",
              "      <th>19156</th>\n",
              "      <td>5756</td>\n",
              "      <td>city_65</td>\n",
              "      <td>0.802</td>\n",
              "      <td>Male</td>\n",
              "      <td>Has relevent experience</td>\n",
              "      <td>no_enrollment</td>\n",
              "      <td>High School</td>\n",
              "      <td>NaN</td>\n",
              "      <td>&lt;1</td>\n",
              "      <td>500-999</td>\n",
              "      <td>Pvt Ltd</td>\n",
              "      <td>2</td>\n",
              "      <td>97</td>\n",
              "      <td>0.0</td>\n",
              "    </tr>\n",
              "    <tr>\n",
              "      <th>19157</th>\n",
              "      <td>23834</td>\n",
              "      <td>city_67</td>\n",
              "      <td>0.855</td>\n",
              "      <td>NaN</td>\n",
              "      <td>No relevent experience</td>\n",
              "      <td>no_enrollment</td>\n",
              "      <td>Primary School</td>\n",
              "      <td>NaN</td>\n",
              "      <td>2</td>\n",
              "      <td>NaN</td>\n",
              "      <td>NaN</td>\n",
              "      <td>1</td>\n",
              "      <td>127</td>\n",
              "      <td>0.0</td>\n",
              "    </tr>\n",
              "  </tbody>\n",
              "</table>\n",
              "<p>19158 rows × 14 columns</p>\n",
              "</div>"
            ],
            "text/plain": [
              "       enrollee_id      city  ...  training_hours target\n",
              "0             8949  city_103  ...              36    1.0\n",
              "1            29725   city_40  ...              47    0.0\n",
              "2            11561   city_21  ...              83    0.0\n",
              "3            33241  city_115  ...              52    1.0\n",
              "4              666  city_162  ...               8    0.0\n",
              "...            ...       ...  ...             ...    ...\n",
              "19153         7386  city_173  ...              42    1.0\n",
              "19154        31398  city_103  ...              52    1.0\n",
              "19155        24576  city_103  ...              44    0.0\n",
              "19156         5756   city_65  ...              97    0.0\n",
              "19157        23834   city_67  ...             127    0.0\n",
              "\n",
              "[19158 rows x 14 columns]"
            ]
          },
          "metadata": {},
          "execution_count": 15
        }
      ]
    },
    {
      "cell_type": "code",
      "metadata": {
        "colab": {
          "base_uri": "https://localhost:8080/"
        },
        "id": "317uD6hHWCnS",
        "outputId": "89ede178-7a46-45ec-edae-5c504495a23d"
      },
      "source": [
        "# Vendo um pouco do dataset de teste\n",
        "\n",
        "test"
      ],
      "execution_count": null,
      "outputs": [
        {
          "output_type": "execute_result",
          "data": {
            "text/html": [
              "<div>\n",
              "<style scoped>\n",
              "    .dataframe tbody tr th:only-of-type {\n",
              "        vertical-align: middle;\n",
              "    }\n",
              "\n",
              "    .dataframe tbody tr th {\n",
              "        vertical-align: top;\n",
              "    }\n",
              "\n",
              "    .dataframe thead th {\n",
              "        text-align: right;\n",
              "    }\n",
              "</style>\n",
              "<table border=\"1\" class=\"dataframe\">\n",
              "  <thead>\n",
              "    <tr style=\"text-align: right;\">\n",
              "      <th></th>\n",
              "      <th>enrollee_id</th>\n",
              "      <th>city</th>\n",
              "      <th>city_development_index</th>\n",
              "      <th>gender</th>\n",
              "      <th>relevent_experience</th>\n",
              "      <th>enrolled_university</th>\n",
              "      <th>education_level</th>\n",
              "      <th>major_discipline</th>\n",
              "      <th>experience</th>\n",
              "      <th>company_size</th>\n",
              "      <th>company_type</th>\n",
              "      <th>last_new_job</th>\n",
              "      <th>training_hours</th>\n",
              "    </tr>\n",
              "  </thead>\n",
              "  <tbody>\n",
              "    <tr>\n",
              "      <th>0</th>\n",
              "      <td>32403</td>\n",
              "      <td>city_41</td>\n",
              "      <td>0.827</td>\n",
              "      <td>Male</td>\n",
              "      <td>Has relevent experience</td>\n",
              "      <td>Full time course</td>\n",
              "      <td>Graduate</td>\n",
              "      <td>STEM</td>\n",
              "      <td>9</td>\n",
              "      <td>&lt;10</td>\n",
              "      <td>NaN</td>\n",
              "      <td>1</td>\n",
              "      <td>21</td>\n",
              "    </tr>\n",
              "    <tr>\n",
              "      <th>1</th>\n",
              "      <td>9858</td>\n",
              "      <td>city_103</td>\n",
              "      <td>0.920</td>\n",
              "      <td>Female</td>\n",
              "      <td>Has relevent experience</td>\n",
              "      <td>no_enrollment</td>\n",
              "      <td>Graduate</td>\n",
              "      <td>STEM</td>\n",
              "      <td>5</td>\n",
              "      <td>NaN</td>\n",
              "      <td>Pvt Ltd</td>\n",
              "      <td>1</td>\n",
              "      <td>98</td>\n",
              "    </tr>\n",
              "    <tr>\n",
              "      <th>2</th>\n",
              "      <td>31806</td>\n",
              "      <td>city_21</td>\n",
              "      <td>0.624</td>\n",
              "      <td>Male</td>\n",
              "      <td>No relevent experience</td>\n",
              "      <td>no_enrollment</td>\n",
              "      <td>High School</td>\n",
              "      <td>NaN</td>\n",
              "      <td>&lt;1</td>\n",
              "      <td>NaN</td>\n",
              "      <td>Pvt Ltd</td>\n",
              "      <td>never</td>\n",
              "      <td>15</td>\n",
              "    </tr>\n",
              "    <tr>\n",
              "      <th>3</th>\n",
              "      <td>27385</td>\n",
              "      <td>city_13</td>\n",
              "      <td>0.827</td>\n",
              "      <td>Male</td>\n",
              "      <td>Has relevent experience</td>\n",
              "      <td>no_enrollment</td>\n",
              "      <td>Masters</td>\n",
              "      <td>STEM</td>\n",
              "      <td>11</td>\n",
              "      <td>10/49</td>\n",
              "      <td>Pvt Ltd</td>\n",
              "      <td>1</td>\n",
              "      <td>39</td>\n",
              "    </tr>\n",
              "    <tr>\n",
              "      <th>4</th>\n",
              "      <td>27724</td>\n",
              "      <td>city_103</td>\n",
              "      <td>0.920</td>\n",
              "      <td>Male</td>\n",
              "      <td>Has relevent experience</td>\n",
              "      <td>no_enrollment</td>\n",
              "      <td>Graduate</td>\n",
              "      <td>STEM</td>\n",
              "      <td>&gt;20</td>\n",
              "      <td>10000+</td>\n",
              "      <td>Pvt Ltd</td>\n",
              "      <td>&gt;4</td>\n",
              "      <td>72</td>\n",
              "    </tr>\n",
              "    <tr>\n",
              "      <th>...</th>\n",
              "      <td>...</td>\n",
              "      <td>...</td>\n",
              "      <td>...</td>\n",
              "      <td>...</td>\n",
              "      <td>...</td>\n",
              "      <td>...</td>\n",
              "      <td>...</td>\n",
              "      <td>...</td>\n",
              "      <td>...</td>\n",
              "      <td>...</td>\n",
              "      <td>...</td>\n",
              "      <td>...</td>\n",
              "      <td>...</td>\n",
              "    </tr>\n",
              "    <tr>\n",
              "      <th>2124</th>\n",
              "      <td>1289</td>\n",
              "      <td>city_103</td>\n",
              "      <td>0.920</td>\n",
              "      <td>Male</td>\n",
              "      <td>No relevent experience</td>\n",
              "      <td>no_enrollment</td>\n",
              "      <td>Graduate</td>\n",
              "      <td>Humanities</td>\n",
              "      <td>16</td>\n",
              "      <td>NaN</td>\n",
              "      <td>Public Sector</td>\n",
              "      <td>4</td>\n",
              "      <td>15</td>\n",
              "    </tr>\n",
              "    <tr>\n",
              "      <th>2125</th>\n",
              "      <td>195</td>\n",
              "      <td>city_136</td>\n",
              "      <td>0.897</td>\n",
              "      <td>Male</td>\n",
              "      <td>Has relevent experience</td>\n",
              "      <td>no_enrollment</td>\n",
              "      <td>Masters</td>\n",
              "      <td>STEM</td>\n",
              "      <td>18</td>\n",
              "      <td>NaN</td>\n",
              "      <td>NaN</td>\n",
              "      <td>2</td>\n",
              "      <td>30</td>\n",
              "    </tr>\n",
              "    <tr>\n",
              "      <th>2126</th>\n",
              "      <td>31762</td>\n",
              "      <td>city_100</td>\n",
              "      <td>0.887</td>\n",
              "      <td>Male</td>\n",
              "      <td>No relevent experience</td>\n",
              "      <td>no_enrollment</td>\n",
              "      <td>Primary School</td>\n",
              "      <td>NaN</td>\n",
              "      <td>3</td>\n",
              "      <td>NaN</td>\n",
              "      <td>Pvt Ltd</td>\n",
              "      <td>never</td>\n",
              "      <td>18</td>\n",
              "    </tr>\n",
              "    <tr>\n",
              "      <th>2127</th>\n",
              "      <td>7873</td>\n",
              "      <td>city_102</td>\n",
              "      <td>0.804</td>\n",
              "      <td>Male</td>\n",
              "      <td>Has relevent experience</td>\n",
              "      <td>Full time course</td>\n",
              "      <td>High School</td>\n",
              "      <td>NaN</td>\n",
              "      <td>7</td>\n",
              "      <td>100-500</td>\n",
              "      <td>Public Sector</td>\n",
              "      <td>1</td>\n",
              "      <td>84</td>\n",
              "    </tr>\n",
              "    <tr>\n",
              "      <th>2128</th>\n",
              "      <td>12215</td>\n",
              "      <td>city_102</td>\n",
              "      <td>0.804</td>\n",
              "      <td>Male</td>\n",
              "      <td>Has relevent experience</td>\n",
              "      <td>no_enrollment</td>\n",
              "      <td>Masters</td>\n",
              "      <td>STEM</td>\n",
              "      <td>15</td>\n",
              "      <td>10000+</td>\n",
              "      <td>Pvt Ltd</td>\n",
              "      <td>2</td>\n",
              "      <td>11</td>\n",
              "    </tr>\n",
              "  </tbody>\n",
              "</table>\n",
              "<p>2129 rows × 13 columns</p>\n",
              "</div>"
            ],
            "text/plain": [
              "      enrollee_id      city  ...  last_new_job training_hours\n",
              "0           32403   city_41  ...             1             21\n",
              "1            9858  city_103  ...             1             98\n",
              "2           31806   city_21  ...         never             15\n",
              "3           27385   city_13  ...             1             39\n",
              "4           27724  city_103  ...            >4             72\n",
              "...           ...       ...  ...           ...            ...\n",
              "2124         1289  city_103  ...             4             15\n",
              "2125          195  city_136  ...             2             30\n",
              "2126        31762  city_100  ...         never             18\n",
              "2127         7873  city_102  ...             1             84\n",
              "2128        12215  city_102  ...             2             11\n",
              "\n",
              "[2129 rows x 13 columns]"
            ]
          },
          "metadata": {},
          "execution_count": 4
        }
      ]
    },
    {
      "cell_type": "code",
      "metadata": {
        "colab": {
          "base_uri": "https://localhost:8080/"
        },
        "id": "zdZSjg9qK8bK",
        "outputId": "94697376-9043-4770-ee14-1f0b03c87d84"
      },
      "source": [
        "# Vendo informações gerais sobre o dataset de teste\n",
        "\n",
        "test.info()"
      ],
      "execution_count": null,
      "outputs": [
        {
          "output_type": "stream",
          "name": "stdout",
          "text": [
            "<class 'pandas.core.frame.DataFrame'>\n",
            "RangeIndex: 2129 entries, 0 to 2128\n",
            "Data columns (total 13 columns):\n",
            " #   Column                  Non-Null Count  Dtype  \n",
            "---  ------                  --------------  -----  \n",
            " 0   enrollee_id             2129 non-null   int64  \n",
            " 1   city                    2129 non-null   object \n",
            " 2   city_development_index  2129 non-null   float64\n",
            " 3   gender                  1621 non-null   object \n",
            " 4   relevent_experience     2129 non-null   object \n",
            " 5   enrolled_university     2098 non-null   object \n",
            " 6   education_level         2077 non-null   object \n",
            " 7   major_discipline        1817 non-null   object \n",
            " 8   experience              2124 non-null   object \n",
            " 9   company_size            1507 non-null   object \n",
            " 10  company_type            1495 non-null   object \n",
            " 11  last_new_job            2089 non-null   object \n",
            " 12  training_hours          2129 non-null   int64  \n",
            "dtypes: float64(1), int64(2), object(10)\n",
            "memory usage: 216.4+ KB\n"
          ]
        }
      ]
    },
    {
      "cell_type": "code",
      "metadata": {
        "colab": {
          "base_uri": "https://localhost:8080/"
        },
        "id": "7dVN2BqzLNQZ",
        "outputId": "927b49b0-87ee-44d6-c51c-9f2fb09d5b58"
      },
      "source": [
        "# Vendo informações gerais sobre o dataset de treino\n",
        "\n",
        "train.info()"
      ],
      "execution_count": null,
      "outputs": [
        {
          "output_type": "stream",
          "name": "stdout",
          "text": [
            "<class 'pandas.core.frame.DataFrame'>\n",
            "RangeIndex: 19158 entries, 0 to 19157\n",
            "Data columns (total 14 columns):\n",
            " #   Column                  Non-Null Count  Dtype  \n",
            "---  ------                  --------------  -----  \n",
            " 0   enrollee_id             19158 non-null  int64  \n",
            " 1   city                    19158 non-null  object \n",
            " 2   city_development_index  19158 non-null  float64\n",
            " 3   gender                  14650 non-null  object \n",
            " 4   relevent_experience     19158 non-null  object \n",
            " 5   enrolled_university     18772 non-null  object \n",
            " 6   education_level         18698 non-null  object \n",
            " 7   major_discipline        16345 non-null  object \n",
            " 8   experience              19093 non-null  object \n",
            " 9   company_size            13220 non-null  object \n",
            " 10  company_type            13018 non-null  object \n",
            " 11  last_new_job            18735 non-null  object \n",
            " 12  training_hours          19158 non-null  int64  \n",
            " 13  target                  19158 non-null  float64\n",
            "dtypes: float64(2), int64(2), object(10)\n",
            "memory usage: 2.0+ MB\n"
          ]
        }
      ]
    },
    {
      "cell_type": "code",
      "metadata": {
        "colab": {
          "base_uri": "https://localhost:8080/"
        },
        "id": "yRX8KbPbOYmh",
        "outputId": "a6fbffc2-6b61-4c1f-f62e-6b28c6ef0c9b"
      },
      "source": [
        "# Vendo a quantidade de nulos no data de treino\n",
        "\n",
        "train.isnull().sum()"
      ],
      "execution_count": null,
      "outputs": [
        {
          "output_type": "execute_result",
          "data": {
            "text/plain": [
              "enrollee_id                  0\n",
              "city                         0\n",
              "city_development_index       0\n",
              "gender                    4508\n",
              "relevent_experience          0\n",
              "enrolled_university        386\n",
              "education_level            460\n",
              "major_discipline          2813\n",
              "experience                  65\n",
              "company_size              5938\n",
              "company_type              6140\n",
              "last_new_job               423\n",
              "training_hours               0\n",
              "target                       0\n",
              "dtype: int64"
            ]
          },
          "metadata": {},
          "execution_count": 7
        }
      ]
    },
    {
      "cell_type": "code",
      "metadata": {
        "colab": {
          "base_uri": "https://localhost:8080/"
        },
        "id": "pao5FpC-Ok2-",
        "outputId": "a8fbf608-af94-4257-c7ed-f726c2b68834"
      },
      "source": [
        "# Vendo a quantidade de nulos no data de teste\n",
        "\n",
        "test.isnull().sum()"
      ],
      "execution_count": null,
      "outputs": [
        {
          "output_type": "execute_result",
          "data": {
            "text/plain": [
              "enrollee_id                 0\n",
              "city                        0\n",
              "city_development_index      0\n",
              "gender                    508\n",
              "relevent_experience         0\n",
              "enrolled_university        31\n",
              "education_level            52\n",
              "major_discipline          312\n",
              "experience                  5\n",
              "company_size              622\n",
              "company_type              634\n",
              "last_new_job               40\n",
              "training_hours              0\n",
              "dtype: int64"
            ]
          },
          "metadata": {},
          "execution_count": 8
        }
      ]
    },
    {
      "cell_type": "code",
      "metadata": {
        "id": "oeX-yw31PkI_"
      },
      "source": [
        "# pd.concat é para unir os 2 datasets, fiz isso para \n",
        "# analisar ambos de uma vez com os comandos.\n",
        "# ignore_index é para compartilharem um mesmo novo index.\n",
        "\n",
        "juntos = pd.concat([train, test], ignore_index= True) "
      ],
      "execution_count": null,
      "outputs": []
    },
    {
      "cell_type": "code",
      "metadata": {
        "colab": {
          "base_uri": "https://localhost:8080/"
        },
        "id": "PhpbMey_P00o",
        "outputId": "1242d527-41b0-4fa3-b557-cc529fa51b61"
      },
      "source": [
        "# Vendo as informações gerais \n",
        "\n",
        "juntos.info()"
      ],
      "execution_count": null,
      "outputs": [
        {
          "output_type": "stream",
          "name": "stdout",
          "text": [
            "<class 'pandas.core.frame.DataFrame'>\n",
            "RangeIndex: 21287 entries, 0 to 21286\n",
            "Data columns (total 14 columns):\n",
            " #   Column                  Non-Null Count  Dtype  \n",
            "---  ------                  --------------  -----  \n",
            " 0   enrollee_id             21287 non-null  int64  \n",
            " 1   city                    21287 non-null  object \n",
            " 2   city_development_index  21287 non-null  float64\n",
            " 3   gender                  16271 non-null  object \n",
            " 4   relevent_experience     21287 non-null  object \n",
            " 5   enrolled_university     20870 non-null  object \n",
            " 6   education_level         20775 non-null  object \n",
            " 7   major_discipline        18162 non-null  object \n",
            " 8   experience              21217 non-null  object \n",
            " 9   company_size            14727 non-null  object \n",
            " 10  company_type            14513 non-null  object \n",
            " 11  last_new_job            20824 non-null  object \n",
            " 12  training_hours          21287 non-null  int64  \n",
            " 13  target                  19158 non-null  float64\n",
            "dtypes: float64(2), int64(2), object(10)\n",
            "memory usage: 2.3+ MB\n"
          ]
        }
      ]
    },
    {
      "cell_type": "code",
      "metadata": {
        "colab": {
          "base_uri": "https://localhost:8080/"
        },
        "id": "PMo78X4bQP9n",
        "outputId": "a0026d34-2146-47a1-98d6-696e695ade30"
      },
      "source": [
        "juntos.isnull().sum()"
      ],
      "execution_count": null,
      "outputs": [
        {
          "output_type": "execute_result",
          "data": {
            "text/plain": [
              "enrollee_id                  0\n",
              "city                         0\n",
              "city_development_index       0\n",
              "gender                    5016\n",
              "relevent_experience          0\n",
              "enrolled_university        417\n",
              "education_level            512\n",
              "major_discipline          3125\n",
              "experience                  70\n",
              "company_size              6560\n",
              "company_type              6774\n",
              "last_new_job               463\n",
              "training_hours               0\n",
              "target                    2129\n",
              "dtype: int64"
            ]
          },
          "metadata": {},
          "execution_count": 11
        }
      ]
    },
    {
      "cell_type": "code",
      "metadata": {
        "colab": {
          "base_uri": "https://localhost:8080/"
        },
        "id": "oTpSMfRCQGjk",
        "outputId": "ee1b5592-359d-489f-88ca-131e53bed0cb"
      },
      "source": [
        "juntos"
      ],
      "execution_count": null,
      "outputs": [
        {
          "output_type": "execute_result",
          "data": {
            "text/html": [
              "<div>\n",
              "<style scoped>\n",
              "    .dataframe tbody tr th:only-of-type {\n",
              "        vertical-align: middle;\n",
              "    }\n",
              "\n",
              "    .dataframe tbody tr th {\n",
              "        vertical-align: top;\n",
              "    }\n",
              "\n",
              "    .dataframe thead th {\n",
              "        text-align: right;\n",
              "    }\n",
              "</style>\n",
              "<table border=\"1\" class=\"dataframe\">\n",
              "  <thead>\n",
              "    <tr style=\"text-align: right;\">\n",
              "      <th></th>\n",
              "      <th>enrollee_id</th>\n",
              "      <th>city</th>\n",
              "      <th>city_development_index</th>\n",
              "      <th>gender</th>\n",
              "      <th>relevent_experience</th>\n",
              "      <th>enrolled_university</th>\n",
              "      <th>education_level</th>\n",
              "      <th>major_discipline</th>\n",
              "      <th>experience</th>\n",
              "      <th>company_size</th>\n",
              "      <th>company_type</th>\n",
              "      <th>last_new_job</th>\n",
              "      <th>training_hours</th>\n",
              "      <th>target</th>\n",
              "    </tr>\n",
              "  </thead>\n",
              "  <tbody>\n",
              "    <tr>\n",
              "      <th>0</th>\n",
              "      <td>8949</td>\n",
              "      <td>city_103</td>\n",
              "      <td>0.920</td>\n",
              "      <td>Male</td>\n",
              "      <td>Has relevent experience</td>\n",
              "      <td>no_enrollment</td>\n",
              "      <td>Graduate</td>\n",
              "      <td>STEM</td>\n",
              "      <td>&gt;20</td>\n",
              "      <td>NaN</td>\n",
              "      <td>NaN</td>\n",
              "      <td>1</td>\n",
              "      <td>36</td>\n",
              "      <td>1.0</td>\n",
              "    </tr>\n",
              "    <tr>\n",
              "      <th>1</th>\n",
              "      <td>29725</td>\n",
              "      <td>city_40</td>\n",
              "      <td>0.776</td>\n",
              "      <td>Male</td>\n",
              "      <td>No relevent experience</td>\n",
              "      <td>no_enrollment</td>\n",
              "      <td>Graduate</td>\n",
              "      <td>STEM</td>\n",
              "      <td>15</td>\n",
              "      <td>50-99</td>\n",
              "      <td>Pvt Ltd</td>\n",
              "      <td>&gt;4</td>\n",
              "      <td>47</td>\n",
              "      <td>0.0</td>\n",
              "    </tr>\n",
              "    <tr>\n",
              "      <th>2</th>\n",
              "      <td>11561</td>\n",
              "      <td>city_21</td>\n",
              "      <td>0.624</td>\n",
              "      <td>NaN</td>\n",
              "      <td>No relevent experience</td>\n",
              "      <td>Full time course</td>\n",
              "      <td>Graduate</td>\n",
              "      <td>STEM</td>\n",
              "      <td>5</td>\n",
              "      <td>NaN</td>\n",
              "      <td>NaN</td>\n",
              "      <td>never</td>\n",
              "      <td>83</td>\n",
              "      <td>0.0</td>\n",
              "    </tr>\n",
              "    <tr>\n",
              "      <th>3</th>\n",
              "      <td>33241</td>\n",
              "      <td>city_115</td>\n",
              "      <td>0.789</td>\n",
              "      <td>NaN</td>\n",
              "      <td>No relevent experience</td>\n",
              "      <td>NaN</td>\n",
              "      <td>Graduate</td>\n",
              "      <td>Business Degree</td>\n",
              "      <td>&lt;1</td>\n",
              "      <td>NaN</td>\n",
              "      <td>Pvt Ltd</td>\n",
              "      <td>never</td>\n",
              "      <td>52</td>\n",
              "      <td>1.0</td>\n",
              "    </tr>\n",
              "    <tr>\n",
              "      <th>4</th>\n",
              "      <td>666</td>\n",
              "      <td>city_162</td>\n",
              "      <td>0.767</td>\n",
              "      <td>Male</td>\n",
              "      <td>Has relevent experience</td>\n",
              "      <td>no_enrollment</td>\n",
              "      <td>Masters</td>\n",
              "      <td>STEM</td>\n",
              "      <td>&gt;20</td>\n",
              "      <td>50-99</td>\n",
              "      <td>Funded Startup</td>\n",
              "      <td>4</td>\n",
              "      <td>8</td>\n",
              "      <td>0.0</td>\n",
              "    </tr>\n",
              "    <tr>\n",
              "      <th>...</th>\n",
              "      <td>...</td>\n",
              "      <td>...</td>\n",
              "      <td>...</td>\n",
              "      <td>...</td>\n",
              "      <td>...</td>\n",
              "      <td>...</td>\n",
              "      <td>...</td>\n",
              "      <td>...</td>\n",
              "      <td>...</td>\n",
              "      <td>...</td>\n",
              "      <td>...</td>\n",
              "      <td>...</td>\n",
              "      <td>...</td>\n",
              "      <td>...</td>\n",
              "    </tr>\n",
              "    <tr>\n",
              "      <th>21282</th>\n",
              "      <td>1289</td>\n",
              "      <td>city_103</td>\n",
              "      <td>0.920</td>\n",
              "      <td>Male</td>\n",
              "      <td>No relevent experience</td>\n",
              "      <td>no_enrollment</td>\n",
              "      <td>Graduate</td>\n",
              "      <td>Humanities</td>\n",
              "      <td>16</td>\n",
              "      <td>NaN</td>\n",
              "      <td>Public Sector</td>\n",
              "      <td>4</td>\n",
              "      <td>15</td>\n",
              "      <td>NaN</td>\n",
              "    </tr>\n",
              "    <tr>\n",
              "      <th>21283</th>\n",
              "      <td>195</td>\n",
              "      <td>city_136</td>\n",
              "      <td>0.897</td>\n",
              "      <td>Male</td>\n",
              "      <td>Has relevent experience</td>\n",
              "      <td>no_enrollment</td>\n",
              "      <td>Masters</td>\n",
              "      <td>STEM</td>\n",
              "      <td>18</td>\n",
              "      <td>NaN</td>\n",
              "      <td>NaN</td>\n",
              "      <td>2</td>\n",
              "      <td>30</td>\n",
              "      <td>NaN</td>\n",
              "    </tr>\n",
              "    <tr>\n",
              "      <th>21284</th>\n",
              "      <td>31762</td>\n",
              "      <td>city_100</td>\n",
              "      <td>0.887</td>\n",
              "      <td>Male</td>\n",
              "      <td>No relevent experience</td>\n",
              "      <td>no_enrollment</td>\n",
              "      <td>Primary School</td>\n",
              "      <td>NaN</td>\n",
              "      <td>3</td>\n",
              "      <td>NaN</td>\n",
              "      <td>Pvt Ltd</td>\n",
              "      <td>never</td>\n",
              "      <td>18</td>\n",
              "      <td>NaN</td>\n",
              "    </tr>\n",
              "    <tr>\n",
              "      <th>21285</th>\n",
              "      <td>7873</td>\n",
              "      <td>city_102</td>\n",
              "      <td>0.804</td>\n",
              "      <td>Male</td>\n",
              "      <td>Has relevent experience</td>\n",
              "      <td>Full time course</td>\n",
              "      <td>High School</td>\n",
              "      <td>NaN</td>\n",
              "      <td>7</td>\n",
              "      <td>100-500</td>\n",
              "      <td>Public Sector</td>\n",
              "      <td>1</td>\n",
              "      <td>84</td>\n",
              "      <td>NaN</td>\n",
              "    </tr>\n",
              "    <tr>\n",
              "      <th>21286</th>\n",
              "      <td>12215</td>\n",
              "      <td>city_102</td>\n",
              "      <td>0.804</td>\n",
              "      <td>Male</td>\n",
              "      <td>Has relevent experience</td>\n",
              "      <td>no_enrollment</td>\n",
              "      <td>Masters</td>\n",
              "      <td>STEM</td>\n",
              "      <td>15</td>\n",
              "      <td>10000+</td>\n",
              "      <td>Pvt Ltd</td>\n",
              "      <td>2</td>\n",
              "      <td>11</td>\n",
              "      <td>NaN</td>\n",
              "    </tr>\n",
              "  </tbody>\n",
              "</table>\n",
              "<p>21287 rows × 14 columns</p>\n",
              "</div>"
            ],
            "text/plain": [
              "       enrollee_id      city  ...  training_hours target\n",
              "0             8949  city_103  ...              36    1.0\n",
              "1            29725   city_40  ...              47    0.0\n",
              "2            11561   city_21  ...              83    0.0\n",
              "3            33241  city_115  ...              52    1.0\n",
              "4              666  city_162  ...               8    0.0\n",
              "...            ...       ...  ...             ...    ...\n",
              "21282         1289  city_103  ...              15    NaN\n",
              "21283          195  city_136  ...              30    NaN\n",
              "21284        31762  city_100  ...              18    NaN\n",
              "21285         7873  city_102  ...              84    NaN\n",
              "21286        12215  city_102  ...              11    NaN\n",
              "\n",
              "[21287 rows x 14 columns]"
            ]
          },
          "metadata": {},
          "execution_count": 12
        }
      ]
    },
    {
      "cell_type": "markdown",
      "metadata": {
        "id": "80Bu5ghkI6ZU"
      },
      "source": [
        "# Limpandos ambos os dados"
      ]
    },
    {
      "cell_type": "code",
      "metadata": {
        "colab": {
          "base_uri": "https://localhost:8080/"
        },
        "id": "lDHgZR_HBGab",
        "outputId": "c2a376f8-0d55-4881-f599-99e7188d5458"
      },
      "source": [
        "juntos[\"enrollee_id\"].describe()"
      ],
      "execution_count": null,
      "outputs": [
        {
          "data": {
            "text/plain": [
              "count    21287.000000\n",
              "mean     16873.983652\n",
              "std       9612.131237\n",
              "min          1.000000\n",
              "25%       8554.500000\n",
              "50%      16967.000000\n",
              "75%      25161.500000\n",
              "max      33380.000000\n",
              "Name: enrollee_id, dtype: float64"
            ]
          },
          "execution_count": 13,
          "metadata": {},
          "output_type": "execute_result"
        }
      ]
    },
    {
      "cell_type": "code",
      "metadata": {
        "colab": {
          "base_uri": "https://localhost:8080/"
        },
        "id": "eu_hWfCGITpB",
        "outputId": "53085e4b-a39b-450f-b512-3dcab18ebf71"
      },
      "source": [
        "juntos[\"city\"].sort_values().unique()"
      ],
      "execution_count": null,
      "outputs": [
        {
          "data": {
            "text/plain": [
              "array(['city_1', 'city_10', 'city_100', 'city_101', 'city_102',\n",
              "       'city_103', 'city_104', 'city_105', 'city_106', 'city_107',\n",
              "       'city_109', 'city_11', 'city_111', 'city_114', 'city_115',\n",
              "       'city_116', 'city_117', 'city_118', 'city_12', 'city_120',\n",
              "       'city_121', 'city_123', 'city_126', 'city_127', 'city_128',\n",
              "       'city_129', 'city_13', 'city_131', 'city_133', 'city_134',\n",
              "       'city_136', 'city_138', 'city_139', 'city_14', 'city_140',\n",
              "       'city_141', 'city_142', 'city_143', 'city_144', 'city_145',\n",
              "       'city_146', 'city_149', 'city_150', 'city_152', 'city_155',\n",
              "       'city_157', 'city_158', 'city_159', 'city_16', 'city_160',\n",
              "       'city_162', 'city_165', 'city_166', 'city_167', 'city_171',\n",
              "       'city_173', 'city_175', 'city_176', 'city_179', 'city_18',\n",
              "       'city_180', 'city_19', 'city_2', 'city_20', 'city_21', 'city_23',\n",
              "       'city_24', 'city_25', 'city_26', 'city_27', 'city_28', 'city_30',\n",
              "       'city_31', 'city_33', 'city_36', 'city_37', 'city_39', 'city_40',\n",
              "       'city_41', 'city_42', 'city_43', 'city_44', 'city_45', 'city_46',\n",
              "       'city_48', 'city_50', 'city_53', 'city_54', 'city_55', 'city_57',\n",
              "       'city_59', 'city_61', 'city_62', 'city_64', 'city_65', 'city_67',\n",
              "       'city_69', 'city_7', 'city_70', 'city_71', 'city_72', 'city_73',\n",
              "       'city_74', 'city_75', 'city_76', 'city_77', 'city_78', 'city_79',\n",
              "       'city_8', 'city_80', 'city_81', 'city_82', 'city_83', 'city_84',\n",
              "       'city_89', 'city_9', 'city_90', 'city_91', 'city_93', 'city_94',\n",
              "       'city_97', 'city_98', 'city_99'], dtype=object)"
            ]
          },
          "execution_count": 14,
          "metadata": {},
          "output_type": "execute_result"
        }
      ]
    },
    {
      "cell_type": "code",
      "metadata": {
        "colab": {
          "base_uri": "https://localhost:8080/"
        },
        "id": "0PtPk7p3IwxH",
        "outputId": "e1c7e026-c067-4318-902b-39586387d60a"
      },
      "source": [
        "juntos[\"city_development_index\"].describe()"
      ],
      "execution_count": null,
      "outputs": [
        {
          "data": {
            "text/plain": [
              "count    21287.000000\n",
              "mean         0.828462\n",
              "std          0.123537\n",
              "min          0.448000\n",
              "25%          0.739000\n",
              "50%          0.903000\n",
              "75%          0.920000\n",
              "max          0.949000\n",
              "Name: city_development_index, dtype: float64"
            ]
          },
          "execution_count": 15,
          "metadata": {},
          "output_type": "execute_result"
        }
      ]
    },
    {
      "cell_type": "code",
      "metadata": {
        "colab": {
          "base_uri": "https://localhost:8080/"
        },
        "id": "GUvwbm2SJcoe",
        "outputId": "edeed31e-ee82-47a6-c1e1-a8f13ab49e75"
      },
      "source": [
        "juntos[\"gender\"].unique()"
      ],
      "execution_count": null,
      "outputs": [
        {
          "data": {
            "text/plain": [
              "array(['Male', nan, 'Female', 'Other'], dtype=object)"
            ]
          },
          "execution_count": 16,
          "metadata": {},
          "output_type": "execute_result"
        }
      ]
    },
    {
      "cell_type": "code",
      "metadata": {
        "id": "fshfhMeU140m"
      },
      "source": [
        "juntos.rename(columns = {'relevent_experience': \"relevant_experience\"}, inplace = True)\n",
        "# Troquei pq eu ficava errando toda vez que eu escrevia o nome da coluna em \n",
        "# razão dela estar com o nome gramaticalmente incorreto."
      ],
      "execution_count": null,
      "outputs": []
    },
    {
      "cell_type": "code",
      "metadata": {
        "colab": {
          "base_uri": "https://localhost:8080/"
        },
        "id": "cpera42fJmFo",
        "outputId": "58ab6b73-c2c2-4f50-8d07-f89a5ecf15eb"
      },
      "source": [
        "juntos[\"relevant_experience\"].unique()"
      ],
      "execution_count": null,
      "outputs": [
        {
          "data": {
            "text/plain": [
              "array(['Has relevent experience', 'No relevent experience'], dtype=object)"
            ]
          },
          "execution_count": 18,
          "metadata": {},
          "output_type": "execute_result"
        }
      ]
    },
    {
      "cell_type": "code",
      "metadata": {
        "id": "WQQnPLgJ2RNI"
      },
      "source": [
        "juntos['relevant_experience'].replace('Has relevent experience', 'Has relevant experience', inplace = True)\n",
        "juntos['relevant_experience'].replace('No relevent experience', 'No relevant experience', inplace = True)\n",
        "# Agora eu corrijo as strings"
      ],
      "execution_count": null,
      "outputs": []
    },
    {
      "cell_type": "code",
      "metadata": {
        "colab": {
          "base_uri": "https://localhost:8080/"
        },
        "id": "buRxdroHJsMd",
        "outputId": "b9938547-9bd1-43b7-96e2-aff6351f8cd5"
      },
      "source": [
        "juntos[\"enrolled_university\"].unique()"
      ],
      "execution_count": null,
      "outputs": [
        {
          "data": {
            "text/plain": [
              "array(['no_enrollment', 'Full time course', nan, 'Part time course'],\n",
              "      dtype=object)"
            ]
          },
          "execution_count": 20,
          "metadata": {},
          "output_type": "execute_result"
        }
      ]
    },
    {
      "cell_type": "code",
      "metadata": {
        "colab": {
          "base_uri": "https://localhost:8080/"
        },
        "id": "uTEvjcGxJvjc",
        "outputId": "be1eae42-a03e-45d7-fee5-4892582e7f8b"
      },
      "source": [
        "juntos[\"education_level\"].unique()"
      ],
      "execution_count": null,
      "outputs": [
        {
          "data": {
            "text/plain": [
              "array(['Graduate', 'Masters', 'High School', nan, 'Phd', 'Primary School'],\n",
              "      dtype=object)"
            ]
          },
          "execution_count": 21,
          "metadata": {},
          "output_type": "execute_result"
        }
      ]
    },
    {
      "cell_type": "code",
      "metadata": {
        "colab": {
          "base_uri": "https://localhost:8080/"
        },
        "id": "npWeOR4lJv3-",
        "outputId": "19935cbf-ed2e-4f4a-bf41-e1d36384174c"
      },
      "source": [
        "juntos[\"major_discipline\"].unique()"
      ],
      "execution_count": null,
      "outputs": [
        {
          "data": {
            "text/plain": [
              "array(['STEM', 'Business Degree', nan, 'Arts', 'Humanities', 'No Major',\n",
              "       'Other'], dtype=object)"
            ]
          },
          "execution_count": 22,
          "metadata": {},
          "output_type": "execute_result"
        }
      ]
    },
    {
      "cell_type": "code",
      "metadata": {
        "colab": {
          "base_uri": "https://localhost:8080/"
        },
        "id": "VGKmc-raJwN0",
        "outputId": "0b5ed2d4-f79a-46b5-af68-c4116edf7ff6"
      },
      "source": [
        "juntos[\"experience\"].sort_values().unique()"
      ],
      "execution_count": null,
      "outputs": [
        {
          "data": {
            "text/plain": [
              "array(['1', '10', '11', '12', '13', '14', '15', '16', '17', '18', '19',\n",
              "       '2', '20', '3', '4', '5', '6', '7', '8', '9', '<1', '>20', nan],\n",
              "      dtype=object)"
            ]
          },
          "execution_count": 23,
          "metadata": {},
          "output_type": "execute_result"
        }
      ]
    },
    {
      "cell_type": "code",
      "metadata": {
        "colab": {
          "base_uri": "https://localhost:8080/"
        },
        "id": "8rmIxOv3Jwfc",
        "outputId": "fa74989b-4db1-4941-bc16-254bcda1e50d"
      },
      "source": [
        "juntos[\"company_size\"].unique()"
      ],
      "execution_count": null,
      "outputs": [
        {
          "data": {
            "text/plain": [
              "array([nan, '50-99', '<10', '10000+', '5000-9999', '1000-4999', '10/49',\n",
              "       '100-500', '500-999'], dtype=object)"
            ]
          },
          "execution_count": 24,
          "metadata": {},
          "output_type": "execute_result"
        }
      ]
    },
    {
      "cell_type": "code",
      "metadata": {
        "id": "o73twoZ_ORsG"
      },
      "source": [
        "# Por razões estéticas, vou trocar \"10/49\" por \"10-49\". Também vou substituir 10 por 10-49, pois está incluso nessa faixa.\n",
        "juntos['company_size'].replace('10/49', '10-49', inplace = True)\n",
        "juntos['company_size'].replace('10', '10-49', inplace = True)"
      ],
      "execution_count": null,
      "outputs": []
    },
    {
      "cell_type": "code",
      "metadata": {
        "colab": {
          "base_uri": "https://localhost:8080/"
        },
        "id": "jwbO0UnzOolc",
        "outputId": "e4c38bea-3caa-490d-ca2c-83a69e58562b"
      },
      "source": [
        "juntos[\"company_size\"].unique()"
      ],
      "execution_count": null,
      "outputs": [
        {
          "data": {
            "text/plain": [
              "array([nan, '50-99', '<10', '10000+', '5000-9999', '1000-4999', '10-49',\n",
              "       '100-500', '500-999'], dtype=object)"
            ]
          },
          "execution_count": 26,
          "metadata": {},
          "output_type": "execute_result"
        }
      ]
    },
    {
      "cell_type": "code",
      "metadata": {
        "colab": {
          "base_uri": "https://localhost:8080/"
        },
        "id": "KzOTLhPgHslm",
        "outputId": "41ab52cf-1f0f-4f0a-d784-528a71c6397f"
      },
      "source": [
        "juntos[\"company_size\"].sort_values().unique()"
      ],
      "execution_count": null,
      "outputs": [
        {
          "data": {
            "text/plain": [
              "array(['10-49', '100-500', '1000-4999', '10000+', '50-99', '500-999',\n",
              "       '5000-9999', '<10', nan], dtype=object)"
            ]
          },
          "execution_count": 27,
          "metadata": {},
          "output_type": "execute_result"
        }
      ]
    },
    {
      "cell_type": "code",
      "metadata": {
        "colab": {
          "base_uri": "https://localhost:8080/"
        },
        "id": "Dns-gw3EJwvG",
        "outputId": "20c94774-ac6b-4f46-f7fc-005d555ede6c"
      },
      "source": [
        "juntos[\"company_type\"].unique()"
      ],
      "execution_count": null,
      "outputs": [
        {
          "data": {
            "text/plain": [
              "array([nan, 'Pvt Ltd', 'Funded Startup', 'Early Stage Startup', 'Other',\n",
              "       'Public Sector', 'NGO'], dtype=object)"
            ]
          },
          "execution_count": 28,
          "metadata": {},
          "output_type": "execute_result"
        }
      ]
    },
    {
      "cell_type": "code",
      "metadata": {
        "colab": {
          "base_uri": "https://localhost:8080/"
        },
        "id": "l36i7ECFOIVF",
        "outputId": "b0b288e5-8e78-4fa4-b090-255e135f91f9"
      },
      "source": [
        "juntos[\"last_new_job\"].unique()"
      ],
      "execution_count": null,
      "outputs": [
        {
          "data": {
            "text/plain": [
              "array(['1', '>4', 'never', '4', '3', '2', nan], dtype=object)"
            ]
          },
          "execution_count": 29,
          "metadata": {},
          "output_type": "execute_result"
        }
      ]
    },
    {
      "cell_type": "code",
      "metadata": {
        "colab": {
          "base_uri": "https://localhost:8080/"
        },
        "id": "sVFH5uF5OIrN",
        "outputId": "7ae0e1b8-dbeb-416e-82cd-649cdc215be8"
      },
      "source": [
        "juntos[\"training_hours\"].sort_values().unique()"
      ],
      "execution_count": null,
      "outputs": [
        {
          "data": {
            "text/plain": [
              "array([  1,   2,   3,   4,   5,   6,   7,   8,   9,  10,  11,  12,  13,\n",
              "        14,  15,  16,  17,  18,  19,  20,  21,  22,  23,  24,  25,  26,\n",
              "        27,  28,  29,  30,  31,  32,  33,  34,  35,  36,  37,  38,  39,\n",
              "        40,  41,  42,  43,  44,  45,  46,  47,  48,  49,  50,  51,  52,\n",
              "        53,  54,  55,  56,  57,  58,  59,  60,  61,  62,  63,  64,  65,\n",
              "        66,  67,  68,  69,  70,  71,  72,  73,  74,  75,  76,  77,  78,\n",
              "        79,  80,  81,  82,  83,  84,  85,  86,  87,  88,  89,  90,  91,\n",
              "        92,  94,  95,  96,  97,  98,  99, 100, 101, 102, 103, 104, 105,\n",
              "       106, 107, 108, 109, 110, 111, 112, 113, 114, 116, 117, 118, 119,\n",
              "       120, 121, 122, 123, 124, 125, 126, 127, 128, 129, 130, 131, 132,\n",
              "       133, 134, 135, 136, 138, 139, 140, 141, 142, 143, 144, 145, 146,\n",
              "       147, 148, 149, 150, 151, 152, 153, 154, 155, 156, 157, 158, 160,\n",
              "       161, 162, 163, 164, 165, 166, 167, 168, 170, 172, 174, 176, 178,\n",
              "       180, 182, 184, 188, 190, 192, 194, 196, 198, 200, 202, 204, 206,\n",
              "       210, 212, 214, 216, 218, 220, 222, 224, 226, 228, 232, 234, 236,\n",
              "       238, 240, 242, 244, 246, 248, 250, 254, 256, 258, 260, 262, 264,\n",
              "       266, 268, 270, 272, 276, 278, 280, 282, 284, 286, 288, 290, 292,\n",
              "       294, 298, 300, 302, 304, 306, 308, 310, 312, 314, 316, 320, 322,\n",
              "       324, 326, 328, 330, 332, 334, 336])"
            ]
          },
          "execution_count": 30,
          "metadata": {},
          "output_type": "execute_result"
        }
      ]
    },
    {
      "cell_type": "code",
      "metadata": {
        "colab": {
          "base_uri": "https://localhost:8080/"
        },
        "id": "gureh7DQTIcW",
        "outputId": "4ede4dfe-3639-4ae4-8fe5-f247958955cd"
      },
      "source": [
        "juntos[\"training_hours\"].describe()"
      ],
      "execution_count": null,
      "outputs": [
        {
          "data": {
            "text/plain": [
              "count    21287.000000\n",
              "mean        65.328510\n",
              "std         60.075201\n",
              "min          1.000000\n",
              "25%         23.000000\n",
              "50%         47.000000\n",
              "75%         88.000000\n",
              "max        336.000000\n",
              "Name: training_hours, dtype: float64"
            ]
          },
          "execution_count": 31,
          "metadata": {},
          "output_type": "execute_result"
        }
      ]
    },
    {
      "cell_type": "code",
      "metadata": {
        "colab": {
          "base_uri": "https://localhost:8080/"
        },
        "id": "C7Ofy3FxSyum",
        "outputId": "151f5b18-d87a-4f29-bdd0-5010ab20e4e5"
      },
      "source": [
        "juntos[\"target\"].unique()"
      ],
      "execution_count": null,
      "outputs": [
        {
          "data": {
            "text/plain": [
              "array([ 1.,  0., nan])"
            ]
          },
          "execution_count": 32,
          "metadata": {},
          "output_type": "execute_result"
        }
      ]
    },
    {
      "cell_type": "code",
      "metadata": {
        "colab": {
          "base_uri": "https://localhost:8080/"
        },
        "id": "yukAdgkyx7pc",
        "outputId": "6ee05491-6b3a-4231-b950-6a22559f47a6"
      },
      "source": [
        "juntos[\"target\"].describe()"
      ],
      "execution_count": null,
      "outputs": [
        {
          "data": {
            "text/plain": [
              "count    19158.000000\n",
              "mean         0.249348\n",
              "std          0.432647\n",
              "min          0.000000\n",
              "25%          0.000000\n",
              "50%          0.000000\n",
              "75%          0.000000\n",
              "max          1.000000\n",
              "Name: target, dtype: float64"
            ]
          },
          "execution_count": 33,
          "metadata": {},
          "output_type": "execute_result"
        }
      ]
    },
    {
      "cell_type": "code",
      "metadata": {
        "id": "omziAorMp60Y"
      },
      "source": [
        "# juntos_2 é pra usar no final.\n",
        "\n",
        "juntos_2 = juntos"
      ],
      "execution_count": null,
      "outputs": []
    },
    {
      "cell_type": "markdown",
      "metadata": {
        "id": "gSTiYHJvVc8I"
      },
      "source": [
        "# Análise dos dados"
      ]
    },
    {
      "cell_type": "markdown",
      "metadata": {
        "id": "64MmSeqIWwpx"
      },
      "source": [
        "Possíveis relações interessantes para se analisar:\n",
        "- gênero e nível de educação.\n",
        "- Proporção entre gêneros.\n",
        "- Índice de desenvolvimento e nível de educação\n",
        "- Assumindo que empresa grande é o auge da carreira (paga melhor e mais renome) \n",
        "e que selecionaria mais gente foda porque tem grana. Então procurar relação \n",
        "entre **comp size e anos de experiência**, **size e gênero**, **size e nível de educação.** 1º ✅\n",
        "- Experiência com trainig hours\n",
        "- Experiência e target\n",
        "- Experiência e Experiência relevante\n"
      ]
    },
    {
      "cell_type": "markdown",
      "metadata": {
        "id": "3KF0ixqmUBFQ"
      },
      "source": [
        "##Experiência e outras variáveis"
      ]
    },
    {
      "cell_type": "markdown",
      "metadata": {
        "id": "I_j20ZT-ktP1"
      },
      "source": [
        "### Exp e company type"
      ]
    },
    {
      "cell_type": "code",
      "metadata": {
        "colab": {
          "base_uri": "https://localhost:8080/",
          "height": 514
        },
        "id": "ul1BwdbxlBI0",
        "outputId": "5cd9fcc4-a31c-494f-b236-e0477f0f9595"
      },
      "source": [
        "plt.figure(figsize=(20,8))\n",
        "\n",
        "ordenado = juntos.sort_values(\"experience\", key = natsort_keygen( key=lambda x: x.replace('<1', '0') )) \n",
        "# o replace altera o value de uma string, somente para o momento que for ordernado. Nesse caso,\n",
        "# considerou o \"<1\" como \"0\", fiz isso para que ficasse a esquerda.\n",
        "# o lambda é um função anônima.\n",
        "sns.histplot(x = \"experience\", data = ordenado, hue = \"company_type\", stat = \"percent\")\n"
      ],
      "execution_count": 23,
      "outputs": [
        {
          "output_type": "execute_result",
          "data": {
            "text/plain": [
              "<matplotlib.axes._subplots.AxesSubplot at 0x7fbb7a9d0810>"
            ]
          },
          "metadata": {},
          "execution_count": 23
        },
        {
          "output_type": "display_data",
          "data": {
            "image/png": "[encoded data removed]",
            "text/plain": [
              "<Figure size 1440x576 with 1 Axes>"
            ]
          },
          "metadata": {
            "needs_background": "light"
          }
        }
      ]
    },
    {
      "cell_type": "markdown",
      "metadata": {
        "id": "vT93mgCTKags"
      },
      "source": [
        "###Experience e company size"
      ]
    },
    {
      "cell_type": "code",
      "metadata": {
        "colab": {
          "base_uri": "https://localhost:8080/",
          "height": 513
        },
        "id": "eiBUthBSd10q",
        "outputId": "996b36c8-57c1-4e85-e033-b07f4236caa4"
      },
      "source": [
        "ordenado = juntos.sort_values(\"experience\", key = natsort_keygen(  key=lambda x: x.replace('<1', '0') ))\n",
        "\n",
        "M = sns.FacetGrid(ordenado, col=\"company_type\", col_wrap = 3, height = 3.5, aspect = 1.5)\n",
        "figura = M.map(sns.histplot, \"experience\", stat = \"percent\")\n",
        "\n",
        "\n",
        "\n",
        "# Não aparece NaN por algum motivo.\n",
        "# Coincidemente a Hue está em ordem em ordem alfabética, com other no final\n",
        "# Parece que que 20> vem antes do 20, mas, na realidade, é 20 e >20."
      ],
      "execution_count": 24,
      "outputs": [
        {
          "output_type": "display_data",
          "data": {
            "image/png": "[encoded data removed]",
            "text/plain": [
              "<Figure size 1134x504 with 6 Axes>"
            ]
          },
          "metadata": {
            "needs_background": "light"
          }
        }
      ]
    },
    {
      "cell_type": "markdown",
      "metadata": {
        "id": "8YqWZFIKdY9e"
      },
      "source": [
        "### Experiência e training hours"
      ]
    },
    {
      "cell_type": "code",
      "metadata": {
        "colab": {
          "base_uri": "https://localhost:8080/",
          "height": 424
        },
        "id": "F1-Nzu0JeFKj",
        "outputId": "45d3b5c2-1cb1-420d-93eb-1db94bb477ca"
      },
      "source": [
        "plt.figure(figsize=(10,6))\n",
        "ordenado = juntos.sort_values(\"experience\", key = natsort_keygen(  key=lambda x: x.replace('<1', '0') ))\n",
        "\n",
        "sns.histplot(data = ordenado, x = ordenado[\"experience\"], hue = ordenado[\"target\"])"
      ],
      "execution_count": 55,
      "outputs": [
        {
          "output_type": "execute_result",
          "data": {
            "text/plain": [
              "[Text(0.5, 0, '0'), Text(1.5, 0, '1')]"
            ]
          },
          "metadata": {},
          "execution_count": 55
        },
        {
          "output_type": "display_data",
          "data": {
            "image/png": "[encoded data removed]",
            "text/plain": [
              "<Figure size 720x432 with 1 Axes>"
            ]
          },
          "metadata": {}
        }
      ]
    },
    {
      "cell_type": "markdown",
      "metadata": {
        "id": "NqG8CmlL9CKF"
      },
      "source": [
        "##Experiência relevante pareada com outras variáveis"
      ]
    },
    {
      "cell_type": "markdown",
      "metadata": {
        "id": "RtS8tNUbUO1G"
      },
      "source": [
        "### E.R. e company size"
      ]
    },
    {
      "cell_type": "code",
      "metadata": {
        "colab": {
          "base_uri": "https://localhost:8080/"
        },
        "id": "OSP_jO_Z58pZ",
        "outputId": "add85b55-1ef9-49c5-a324-da04fe4ec337"
      },
      "source": [
        "ordenado = juntos.sort_values(\"company_size\", key = natsort_keygen(  key=lambda x: x.replace('<10', '0') ))\n",
        "\n",
        "M = sns.FacetGrid(ordenado, col=\"company_size\", col_wrap = 4, height = 3.5, aspect = 0.8)\n",
        "figura = M.map(sns.histplot, \"relevant_experience\", stat = \"percent\", bins = 20).set_xticklabels(rotation = 90)\n",
        "# Parece que haveria um padrão do tamanho da empresa e experiência relevante,\n",
        "# mas, curiosamente, de 1000-4999 há um inversão e depois volta ao padrão.\n",
        "# Engraçado como rodeia os 80% né?"
      ],
      "execution_count": null,
      "outputs": [
        {
          "data": {
            "image/png": "[encoded data removed]",
            "text/plain": [
              "<Figure size 806.4x504 with 8 Axes>"
            ]
          },
          "metadata": {},
          "output_type": "display_data"
        }
      ]
    },
    {
      "cell_type": "markdown",
      "metadata": {
        "id": "MpB5U-qc08ep"
      },
      "source": [
        "### E.R. e company type"
      ]
    },
    {
      "cell_type": "code",
      "metadata": {
        "colab": {
          "base_uri": "https://localhost:8080/"
        },
        "id": "NarU4qd9SesE",
        "outputId": "c37dd9db-eac6-4eb5-dd84-f5ae43855965"
      },
      "source": [
        "teste = juntos[\"company_type\"].value_counts()\n",
        "teste"
      ],
      "execution_count": null,
      "outputs": [
        {
          "data": {
            "text/plain": [
              "Pvt Ltd                10958\n",
              "Funded Startup          1098\n",
              "Public Sector           1082\n",
              "Early Stage Startup      668\n",
              "NGO                      574\n",
              "Other                    133\n",
              "Name: company_type, dtype: int64"
            ]
          },
          "execution_count": 39,
          "metadata": {},
          "output_type": "execute_result"
        }
      ]
    },
    {
      "cell_type": "code",
      "metadata": {
        "colab": {
          "base_uri": "https://localhost:8080/"
        },
        "id": "24XpnVOfS1la",
        "outputId": "19152397-3d3c-471c-8444-526c894293a6"
      },
      "source": [
        "lista = teste.index\n",
        "comprimento = len(lista)\n",
        "ordem_nova = list(range(comprimento))\n",
        "ordem_nova"
      ],
      "execution_count": null,
      "outputs": [
        {
          "data": {
            "text/plain": [
              "[0, 1, 2, 3, 4, 5]"
            ]
          },
          "execution_count": 40,
          "metadata": {},
          "output_type": "execute_result"
        }
      ]
    },
    {
      "cell_type": "code",
      "metadata": {
        "colab": {
          "base_uri": "https://localhost:8080/"
        },
        "id": "MTriRFxA1B3P",
        "outputId": "082f0f5d-3ea7-429a-fe26-5b6194800b3b"
      },
      "source": [
        "ordenado = juntos.sort_values(\"company_type\", key = natsort_keygen(  key=lambda x: x.replace(lista, ordem_nova) ))\n",
        "# ordenando a coluna \"company_type\" do df \"juntos\" usando como key (algoritmo?) o natsort_keygen() que \n",
        "# usa um próprio pro default, mas eu coloquei a condição consideras as seguintes strings como outras\n",
        "# no momento que fosse compará-las para ordená-las.\n",
        "# Ai coloco isso em um df novo chamado \"ordenado\"\n",
        "\n",
        "M = sns.FacetGrid(ordenado, col=\"relevant_experience\", col_wrap = 3, height = 3.5, aspect = 1.2)\n",
        "figura = M.map(sns.histplot, \"company_type\", stat = \"percent\", bins = 20,\n",
        "               hue_order = juntos[\"company_type\"].value_counts().index).set_xticklabels(rotation = 90)\n",
        "\n",
        "\n",
        " \n",
        "plt.show()"
      ],
      "execution_count": null,
      "outputs": [
        {
          "data": {
            "image/png": "[encoded data removed]",
            "text/plain": [
              "<Figure size 907.2x252 with 2 Axes>"
            ]
          },
          "metadata": {},
          "output_type": "display_data"
        }
      ]
    },
    {
      "cell_type": "code",
      "metadata": {
        "colab": {
          "base_uri": "https://localhost:8080/"
        },
        "id": "ERWX0CgU1OOo",
        "outputId": "f0b8ce2f-4a0b-4f9a-d8c1-0942d43f43a4"
      },
      "source": [
        "ordenado = juntos.sort_values(\"company_type\", key = natsort_keygen(  key=lambda x: x.replace(\"Other\", \"Z\") ))\n",
        "\n",
        "M = sns.FacetGrid(ordenado, col=\"company_type\", col_wrap = 3, height = 3.5, aspect = 1)\n",
        "figura = M.map(sns.histplot, \"relevant_experience\", stat = \"percent\", bins = 20).set_xticklabels(rotation = 90)\n",
        "\n",
        " \n",
        "plt.show()"
      ],
      "execution_count": null,
      "outputs": [
        {
          "data": {
            "image/png": "[encoded data removed]",
            "text/plain": [
              "<Figure size 756x504 with 6 Axes>"
            ]
          },
          "metadata": {},
          "output_type": "display_data"
        }
      ]
    },
    {
      "cell_type": "markdown",
      "metadata": {
        "id": "uS3e7Y9U9GGD"
      },
      "source": [
        "### E.R. e horas de treinamento"
      ]
    },
    {
      "cell_type": "code",
      "metadata": {
        "colab": {
          "base_uri": "https://localhost:8080/"
        },
        "id": "wKRM1ERm9MOL",
        "outputId": "3bc151fd-b1dc-4718-a287-0a5fccc0e423"
      },
      "source": [
        "M = sns.FacetGrid(juntos, col=\"relevant_experience\", col_wrap = 3, height = 3.5, aspect = 1)\n",
        "figura = M.map(sns.histplot, \"training_hours\", stat = \"percent\", bins = 20)\n",
        "\n",
        " \n",
        "plt.show()"
      ],
      "execution_count": null,
      "outputs": [
        {
          "data": {
            "image/png": "[encoded data removed]",
            "text/plain": [
              "<Figure size 756x252 with 2 Axes>"
            ]
          },
          "metadata": {},
          "output_type": "display_data"
        }
      ]
    },
    {
      "cell_type": "markdown",
      "metadata": {
        "id": "tRnXtQvO0ppY"
      },
      "source": [
        "#### Separando por curso"
      ]
    },
    {
      "cell_type": "code",
      "metadata": {
        "colab": {
          "base_uri": "https://localhost:8080/"
        },
        "id": "VXk-hLfGa13s",
        "outputId": "95585d34-5771-4aab-e250-ebb37d4140e7"
      },
      "source": [
        "# Reproduzindo aqui o que eu percebi no outro.\n",
        "sns.catplot(x=\"major_discipline\", y=\"training_hours\", hue = \"relevant_experience\",\n",
        "               data = juntos, kind=\"boxen\", height = 6, aspect= 2)\n",
        "# Como interpretar esse gráfico \n",
        "# https://towardsdatascience.com/letter-value-plot-the-easy-to-understand-boxplot-for-large-datasets-12d6c1279c97\n",
        "# Vão se fazendo mediana das medianas (mediana, quartil, octil etc) e isso é interrompido \n",
        "# quando houver elementos do conjunto do último til para o penúltimo que estão fora do \n",
        "# intervalo de confiança de 95%, aí esse último til nem é plotado."
      ],
      "execution_count": null,
      "outputs": [
        {
          "data": {
            "text/plain": [
              "<seaborn.axisgrid.FacetGrid at 0x7f2822a093d0>"
            ]
          },
          "execution_count": 44,
          "metadata": {},
          "output_type": "execute_result"
        },
        {
          "data": {
            "image/png": "[encoded data removed]",
            "text/plain": [
              "<Figure size 1021.75x432 with 1 Axes>"
            ]
          },
          "metadata": {},
          "output_type": "display_data"
        }
      ]
    },
    {
      "cell_type": "markdown",
      "metadata": {
        "id": "qRwgLXZdJ639"
      },
      "source": [
        "###E.R. e curso"
      ]
    },
    {
      "cell_type": "code",
      "metadata": {
        "colab": {
          "base_uri": "https://localhost:8080/"
        },
        "id": "WaLCdx8SKFxs",
        "outputId": "0d89c948-a6fc-47ad-b7ef-c8f76cf4ea0d"
      },
      "source": [
        "ordenado = juntos.sort_values(\"major_discipline\", key = natsort_keygen(  key=lambda x: x.replace([\"Other\",\"No Major\"], [\"Y\",\"Z\"]) ))\n",
        "\n",
        "M = sns.FacetGrid(ordenado, col=\"major_discipline\", col_wrap = 3, height = 3.5, aspect = 1)\n",
        "figura = M.map(sns.histplot, \"relevant_experience\", stat = \"percent\", bins = 20).set_xticklabels(rotation=45)\n",
        "\n",
        " \n",
        "plt.show()\n",
        "# Engraçado, pois parece que experiência relevante não é um fator para o training hours."
      ],
      "execution_count": null,
      "outputs": [
        {
          "data": {
            "image/png": "[encoded data removed]",
            "text/plain": [
              "<Figure size 756x504 with 6 Axes>"
            ]
          },
          "metadata": {},
          "output_type": "display_data"
        }
      ]
    },
    {
      "cell_type": "code",
      "metadata": {
        "colab": {
          "base_uri": "https://localhost:8080/"
        },
        "id": "bjmUY2G9O0rt",
        "outputId": "70019bad-f41c-489d-c7a7-44938cde1018"
      },
      "source": [
        "plt.figure(figsize=(10,6))\n",
        "sns.countplot(x = \"relevant_experience\", data = juntos, hue = \"major_discipline\",\n",
        "              hue_order = juntos[\"major_discipline\"].value_counts().index)\n",
        "# Arts e no major beiram a irrelevância"
      ],
      "execution_count": null,
      "outputs": [
        {
          "data": {
            "text/plain": [
              "<matplotlib.axes._subplots.AxesSubplot at 0x7f2822ad6bd0>"
            ]
          },
          "execution_count": 46,
          "metadata": {},
          "output_type": "execute_result"
        },
        {
          "data": {
            "image/png": "[encoded data removed]",
            "text/plain": [
              "<Figure size 720x432 with 1 Axes>"
            ]
          },
          "metadata": {},
          "output_type": "display_data"
        }
      ]
    },
    {
      "cell_type": "markdown",
      "metadata": {
        "id": "7X9YdO5USogK"
      },
      "source": [
        "## Horas de treino e curso da faculdade"
      ]
    },
    {
      "cell_type": "code",
      "metadata": {
        "colab": {
          "base_uri": "https://localhost:8080/"
        },
        "id": "aMBHt4_hSsKy",
        "outputId": "243b78a2-87fb-47b0-ce52-034175a4f83b"
      },
      "source": [
        "ordenado = juntos.sort_values(\"major_discipline\", key = natsort_keygen(  key=lambda x: x.replace([\"Other\",\"No Major\"], [\"Y\",\"Z\"]) ))\n",
        "\n",
        "M = sns.FacetGrid(ordenado, col=\"major_discipline\", col_wrap = 3, height = 3.5, aspect = 1)\n",
        "figura = M.map(sns.histplot, \"training_hours\", stat = \"percent\", bins = 20)\n",
        "\n",
        " \n",
        "plt.show()"
      ],
      "execution_count": null,
      "outputs": [
        {
          "data": {
            "image/png": "[encoded data removed]",
            "text/plain": [
              "<Figure size 756x504 with 6 Axes>"
            ]
          },
          "metadata": {},
          "output_type": "display_data"
        }
      ]
    },
    {
      "cell_type": "code",
      "metadata": {
        "colab": {
          "base_uri": "https://localhost:8080/"
        },
        "id": "KquU1QxtPp6D",
        "outputId": "8aab2d07-18f7-4364-a3e8-f53e58053d85"
      },
      "source": [
        "ordenado = juntos.sort_values(\"major_discipline\", key = natsort_keygen(  key=lambda x: x.replace([\"Other\",\"No Major\"], [\"Y\",\"Z\"]) ))\n",
        "\n",
        "sns.catplot(x=\"major_discipline\", y=\"training_hours\",\n",
        "               data = ordenado, kind=\"boxen\", height = 6, aspect= 2)\n"
      ],
      "execution_count": null,
      "outputs": [
        {
          "data": {
            "text/plain": [
              "<seaborn.axisgrid.FacetGrid at 0x7f28230b03d0>"
            ]
          },
          "execution_count": 48,
          "metadata": {},
          "output_type": "execute_result"
        },
        {
          "data": {
            "image/png": "[encoded data removed]",
            "text/plain": [
              "<Figure size 864x432 with 1 Axes>"
            ]
          },
          "metadata": {},
          "output_type": "display_data"
        }
      ]
    },
    {
      "cell_type": "code",
      "metadata": {
        "colab": {
          "base_uri": "https://localhost:8080/"
        },
        "id": "jZTXJtXILpTK",
        "outputId": "1651533d-ef43-4fac-be91-45201ed57ba5"
      },
      "source": [
        "sns.catplot(x=\"major_discipline\", y=\"training_hours\",\n",
        "               data = juntos, kind=\"violin\", height = 6, aspect= 2)\n",
        "# Não sei de onde vem os valores negativos e os acima de 336. É uma projeção???\n",
        "# No próprio site deles os outliers estão errados tbm kkkkkkk\n",
        "# https://seaborn.pydata.org/generated/seaborn.catplot.html#seaborn.catplot"
      ],
      "execution_count": null,
      "outputs": [
        {
          "data": {
            "text/plain": [
              "<seaborn.axisgrid.FacetGrid at 0x7f2822aeb750>"
            ]
          },
          "execution_count": 49,
          "metadata": {},
          "output_type": "execute_result"
        },
        {
          "data": {
            "image/png": "[encoded data removed]",
            "text/plain": [
              "<Figure size 864x432 with 1 Axes>"
            ]
          },
          "metadata": {},
          "output_type": "display_data"
        }
      ]
    },
    {
      "cell_type": "code",
      "metadata": {
        "colab": {
          "base_uri": "https://localhost:8080/"
        },
        "id": "1N53dKrLbbIs",
        "outputId": "3919efc5-e232-4096-d470-f42b69024ab8"
      },
      "source": [
        "sns.displot(data=juntos, x=\"training_hours\", hue=\"major_discipline\", kind=\"kde\")\n",
        "# como a densidade envolve a área e tem um valores de x negativos, isso deve explicar o baixo pico. Ou não,\n",
        "# somando as áreas (densidade vezes largura do eixo x) deveria somar para cada um dos hue, não?\n",
        "# troque o kind = \"kde\" por kind = \"hist\", deve ajudar a evidenciar meu ponto."
      ],
      "execution_count": null,
      "outputs": [
        {
          "data": {
            "text/plain": [
              "<seaborn.axisgrid.FacetGrid at 0x7f282bc8b310>"
            ]
          },
          "execution_count": 50,
          "metadata": {},
          "output_type": "execute_result"
        },
        {
          "data": {
            "image/png": "[encoded data removed]",
            "text/plain": [
              "<Figure size 479.875x360 with 1 Axes>"
            ]
          },
          "metadata": {},
          "output_type": "display_data"
        }
      ]
    },
    {
      "cell_type": "markdown",
      "metadata": {
        "id": "G9oIBzWsSNBT"
      },
      "source": [
        "## Heatmap entre as variáveis"
      ]
    },
    {
      "cell_type": "code",
      "metadata": {
        "colab": {
          "base_uri": "https://localhost:8080/"
        },
        "id": "9yhUYO-mVm_I",
        "outputId": "7e30960c-bf24-4972-baf7-94e291bbd6ca"
      },
      "source": [
        "plt.figure(figsize=(9,7))\n",
        "\n",
        "corr = juntos.corr()\n",
        "\n",
        "# aqui criamos uma matriz com o mesmo formato mas preenchida com zeros\n",
        "mask = np.zeros_like(corr)\n",
        "\n",
        "\n",
        "# aqui estamos preenchendo todos os pontos da diagonal pra cima com \"1\"\n",
        "# dessa forma onde tem o 1 não vai aparecer no gráfico \n",
        "mask[np.triu_indices_from(mask)] = True\n",
        "\n",
        "\n",
        "# aqui criamos o heatmap com o parâmetro mask para esconder a parte de cima\n",
        "sns.heatmap(corr, vmax=1, vmin=-1, center=0, annot=np.round(corr.values, 2), cmap='coolwarm', mask=mask) \n",
        "plt.show()"
      ],
      "execution_count": null,
      "outputs": [
        {
          "data": {
            "image/png": "[encoded data removed]",
            "text/plain": [
              "<Figure size 648x504 with 2 Axes>"
            ]
          },
          "metadata": {},
          "output_type": "display_data"
        }
      ]
    },
    {
      "cell_type": "markdown",
      "metadata": {
        "id": "A-uJ4ijWSQS8"
      },
      "source": [
        "## Tamanho e tipo de empresa"
      ]
    },
    {
      "cell_type": "code",
      "metadata": {
        "colab": {
          "base_uri": "https://localhost:8080/"
        },
        "id": "jvtVHOEqIMaF",
        "outputId": "eead2de6-9240-43b1-91f0-27b7ebf328a0"
      },
      "source": [
        "ordenado = juntos.sort_values(\"company_size\")\n",
        "\n",
        "M = sns.FacetGrid(ordenado, col=\"company_type\", col_wrap = 3, height = 3.5, aspect = 1)\n",
        "M.map(sns.histplot, \"company_size\", stat = \"percent\").set_xticklabels(rotation=90)\n",
        "\n",
        "plt.show()\n",
        "# porque esse mostra errado?"
      ],
      "execution_count": null,
      "outputs": [
        {
          "data": {
            "image/png": "[encoded data removed]",
            "text/plain": [
              "<Figure size 756x504 with 6 Axes>"
            ]
          },
          "metadata": {},
          "output_type": "display_data"
        }
      ]
    },
    {
      "cell_type": "code",
      "metadata": {
        "colab": {
          "base_uri": "https://localhost:8080/"
        },
        "id": "1QkpkP63qTsY",
        "outputId": "c273817f-9fd0-44eb-c3da-3b3a1d566c73"
      },
      "source": [
        "ordenado = juntos.sort_values(\"company_size\", key = natsort_keygen(  key=lambda x: x.replace('<10', '0'), alg = ns.NANLAST )) #alg é usando um que deixa o NaN por último\n",
        "\n",
        "lista = ordenado[\"company_size\"].unique()\n",
        "\n",
        "\n",
        "M = sns.FacetGrid(ordenado, col=\"company_type\", col_wrap = 3, height = 3.5, aspect = 1)\n",
        "M = M.map(sns.histplot, \"company_size\", stat = \"percent\", alpha = 0.85 ) # No .map todos os kwargs são passadas para a função de plotagem.\n",
        "\n",
        "M.axes[5].set_xticks([0,1,2,3,4,5,6,7])       # Só preciso definir em 1, pois é compartilhado pro outros e estava dando um erro antes muito estranho\n",
        "  # em que sumia 4 ticks juntos com suas linhas de grade, então botei elas de novo junto com os labels.\n",
        "\n",
        "for ax in M.axes: # M.axes é igual a M.figure.axes, pq axes está dentro da figura.\n",
        "  ax.grid(True, alpha = 1)\n",
        "  ax.set_xticklabels(lista, rotation = 90)\n",
        "  ax.set_axisbelow(True)\n",
        "\n",
        "#https://seaborn.pydata.org/generated/seaborn.FacetGrid.html\n",
        "# Foda que os set_xticks não está nos métodos né?\n",
        "# pelo menos não nos métodos do atributo \"AxesSubplot\"\n",
        "# e nem sei como procurar por isso, foi bastante tentativa e erro\n",
        "# parece que seriam os mesmos atributos do facet grid?\n",
        "plt.show()"
      ],
      "execution_count": null,
      "outputs": [
        {
          "data": {
            "image/png": "[encoded data removed]",
            "text/plain": [
              "<Figure size 756x504 with 6 Axes>"
            ]
          },
          "metadata": {},
          "output_type": "display_data"
        }
      ]
    },
    {
      "cell_type": "markdown",
      "metadata": {
        "id": "edfvUIHvSY7y"
      },
      "source": [
        "## Tempo desde o último emprego e querer mudar ou não de emprego"
      ]
    },
    {
      "cell_type": "code",
      "metadata": {
        "colab": {
          "base_uri": "https://localhost:8080/"
        },
        "id": "vupct3O8QkWV",
        "outputId": "471b6b2d-f572-4340-e86b-5d554493b090"
      },
      "source": [
        "ordenado = juntos.sort_values(\"last_new_job\")\n",
        "\n",
        "\n",
        "M = sns.FacetGrid(ordenado, col=\"target\")\n",
        "M.map(sns.histplot, \"last_new_job\", stat = \"percent\", bins = 20)\n",
        "plt.show()"
      ],
      "execution_count": null,
      "outputs": [
        {
          "data": {
            "image/png": "[encoded data removed]",
            "text/plain": [
              "<Figure size 432x216 with 2 Axes>"
            ]
          },
          "metadata": {},
          "output_type": "display_data"
        }
      ]
    },
    {
      "cell_type": "markdown",
      "metadata": {
        "id": "JoWiKxXmQb5e"
      },
      "source": [
        "## Gênero, training hours, city e target"
      ]
    },
    {
      "cell_type": "code",
      "metadata": {
        "id": "YwMXFsaovyPf"
      },
      "source": [
        "# Convertendo os valores de target para string, pois senão o eixo x iria de 0 a 1, mas tendo ticks para\n",
        "# valores intermediários.\n",
        "\n",
        "target_to_string = juntos.copy()\n",
        "target_to_string.dropna(axis = 0, inplace = True, subset = [\"target\"]) # tira os nan's por linha da coluna target\n",
        "target_to_string[\"target\"] = target_to_string[\"target\"].astype(str) # ai converte tudo que sobra pra string, ai foi tirado o nan\n",
        "# pq senão viraria string\n",
        "target_to_string = target_to_string.sort_values(\"target\") # e agora eu ordeno"
      ],
      "execution_count": null,
      "outputs": []
    },
    {
      "cell_type": "code",
      "metadata": {
        "colab": {
          "base_uri": "https://localhost:8080/"
        },
        "id": "iJZZO-s0fj94",
        "outputId": "0700c0c2-aa05-4980-b0c8-ffa75e01d1c9"
      },
      "source": [
        "M = sns.FacetGrid(target_to_string, col=\"gender\")\n",
        "M.map(sns.histplot, \"target\", stat = \"percent\")\n",
        "plt.show()"
      ],
      "execution_count": null,
      "outputs": [
        {
          "data": {
            "image/png": "[encoded data removed]",
            "text/plain": [
              "<Figure size 648x216 with 3 Axes>"
            ]
          },
          "metadata": {},
          "output_type": "display_data"
        }
      ]
    },
    {
      "cell_type": "code",
      "metadata": {
        "colab": {
          "base_uri": "https://localhost:8080/"
        },
        "id": "UWmB3Dbrpmd7",
        "outputId": "68c57b8a-adc0-4c3f-ecd9-c2d0bb4f5ca3"
      },
      "source": [
        "M = sns.FacetGrid(juntos, col=\"gender\")\n",
        "M.map(sns.histplot, \"training_hours\", stat = \"percent\", bins = 20)\n",
        "plt.show()"
      ],
      "execution_count": null,
      "outputs": [
        {
          "data": {
            "image/png": "[encoded data removed]",
            "text/plain": [
              "<Figure size 648x216 with 3 Axes>"
            ]
          },
          "metadata": {},
          "output_type": "display_data"
        }
      ]
    },
    {
      "cell_type": "code",
      "metadata": {
        "colab": {
          "base_uri": "https://localhost:8080/"
        },
        "id": "JDLHkA5Qmuaw",
        "outputId": "b428da1e-4c5d-4d72-e4b3-52204d0736bb"
      },
      "source": [
        "M = sns.FacetGrid(juntos, col=\"gender\")\n",
        "M.map(sns.histplot, \"city_development_index\", stat = \"percent\", bins = 20)\n",
        "plt.show()"
      ],
      "execution_count": null,
      "outputs": [
        {
          "data": {
            "image/png": "[encoded data removed]",
            "text/plain": [
              "<Figure size 648x216 with 3 Axes>"
            ]
          },
          "metadata": {},
          "output_type": "display_data"
        }
      ]
    },
    {
      "cell_type": "code",
      "metadata": {
        "colab": {
          "base_uri": "https://localhost:8080/",
          "height": 424
        },
        "id": "n2ouKQ7GYHuA",
        "outputId": "0a3932cc-6dae-4f86-a7dd-52b80035d657"
      },
      "source": [
        "g = sns.catplot(x=\"target\", y=\"city_development_index\", hue=\"gender\",\n",
        "               data = juntos, kind=\"boxen\", height = 6, aspect= 2)"
      ],
      "execution_count": 56,
      "outputs": [
        {
          "output_type": "display_data",
          "data": {
            "image/png": "[encoded data removed]",
            "text/plain": [
              "<Figure size 982.9x432 with 1 Axes>"
            ]
          },
          "metadata": {}
        }
      ]
    },
    {
      "cell_type": "code",
      "metadata": {
        "colab": {
          "base_uri": "https://localhost:8080/",
          "height": 424
        },
        "id": "A5tA0wE4Y7gC",
        "outputId": "f917ba6e-4797-4da8-fc45-720fa0c1cde1"
      },
      "source": [
        "g = sns.catplot(x=\"target\", y=\"city_development_index\",\n",
        "               data = juntos, kind=\"boxen\", height = 6, aspect= 1)"
      ],
      "execution_count": 57,
      "outputs": [
        {
          "output_type": "display_data",
          "data": {
            "image/png": "[encoded data removed]",
            "text/plain": [
              "<Figure size 432x432 with 1 Axes>"
            ]
          },
          "metadata": {}
        }
      ]
    },
    {
      "cell_type": "code",
      "metadata": {
        "colab": {
          "base_uri": "https://localhost:8080/"
        },
        "id": "teSqCu7xCpJ3",
        "outputId": "250187e0-c1e4-414e-987a-b708c6630555"
      },
      "source": [
        "M = sns.FacetGrid(juntos, col=\"target\")\n",
        "M.map(sns.histplot, \"training_hours\", stat = \"percent\", bins = 20)\n",
        "plt.show()"
      ],
      "execution_count": null,
      "outputs": [
        {
          "data": {
            "image/png": "[encoded data removed]",
            "text/plain": [
              "<Figure size 432x216 with 2 Axes>"
            ]
          },
          "metadata": {},
          "output_type": "display_data"
        }
      ]
    },
    {
      "cell_type": "markdown",
      "metadata": {
        "id": "kg8VJ1Shatvx"
      },
      "source": [
        "# Aprendizagem Supervisionada"
      ]
    },
    {
      "cell_type": "code",
      "metadata": {
        "id": "Io7bd_h7O4Ei"
      },
      "source": [
        "from sklearn import preprocessing\n",
        "from sklearn.model_selection import train_test_split\n",
        "from sklearn.metrics import accuracy_score, classification_report\n",
        "from sklearn.metrics import confusion_matrix, plot_confusion_matrix\n",
        "# Separando novamente para fazer a aprendizagem\n",
        "\n",
        "train = juntos.iloc[:19158, :]\n",
        "test = juntos.iloc[19158:, :]\n",
        "test.reset_index(drop = True, inplace = True)"
      ],
      "execution_count": 25,
      "outputs": []
    },
    {
      "cell_type": "code",
      "metadata": {
        "colab": {
          "base_uri": "https://localhost:8080/",
          "height": 461
        },
        "id": "65Bm5-PhPsf0",
        "outputId": "c1fbbb66-58e4-401c-bd82-e0b0c33a9a86"
      },
      "source": [
        "encoding_train = pd.get_dummies(train)\n",
        "encoding_train"
      ],
      "execution_count": 26,
      "outputs": [
        {
          "output_type": "execute_result",
          "data": {
            "text/html": [
              "<div>\n",
              "<style scoped>\n",
              "    .dataframe tbody tr th:only-of-type {\n",
              "        vertical-align: middle;\n",
              "    }\n",
              "\n",
              "    .dataframe tbody tr th {\n",
              "        vertical-align: top;\n",
              "    }\n",
              "\n",
              "    .dataframe thead th {\n",
              "        text-align: right;\n",
              "    }\n",
              "</style>\n",
              "<table border=\"1\" class=\"dataframe\">\n",
              "  <thead>\n",
              "    <tr style=\"text-align: right;\">\n",
              "      <th></th>\n",
              "      <th>enrollee_id</th>\n",
              "      <th>city_development_index</th>\n",
              "      <th>training_hours</th>\n",
              "      <th>target</th>\n",
              "      <th>city_city_1</th>\n",
              "      <th>city_city_10</th>\n",
              "      <th>city_city_100</th>\n",
              "      <th>city_city_101</th>\n",
              "      <th>city_city_102</th>\n",
              "      <th>city_city_103</th>\n",
              "      <th>city_city_104</th>\n",
              "      <th>city_city_105</th>\n",
              "      <th>city_city_106</th>\n",
              "      <th>city_city_107</th>\n",
              "      <th>city_city_109</th>\n",
              "      <th>city_city_11</th>\n",
              "      <th>city_city_111</th>\n",
              "      <th>city_city_114</th>\n",
              "      <th>city_city_115</th>\n",
              "      <th>city_city_116</th>\n",
              "      <th>city_city_117</th>\n",
              "      <th>city_city_118</th>\n",
              "      <th>city_city_12</th>\n",
              "      <th>city_city_120</th>\n",
              "      <th>city_city_121</th>\n",
              "      <th>city_city_123</th>\n",
              "      <th>city_city_126</th>\n",
              "      <th>city_city_127</th>\n",
              "      <th>city_city_128</th>\n",
              "      <th>city_city_129</th>\n",
              "      <th>city_city_13</th>\n",
              "      <th>city_city_131</th>\n",
              "      <th>city_city_133</th>\n",
              "      <th>city_city_134</th>\n",
              "      <th>city_city_136</th>\n",
              "      <th>city_city_138</th>\n",
              "      <th>city_city_139</th>\n",
              "      <th>city_city_14</th>\n",
              "      <th>city_city_140</th>\n",
              "      <th>city_city_141</th>\n",
              "      <th>...</th>\n",
              "      <th>experience_11</th>\n",
              "      <th>experience_12</th>\n",
              "      <th>experience_13</th>\n",
              "      <th>experience_14</th>\n",
              "      <th>experience_15</th>\n",
              "      <th>experience_16</th>\n",
              "      <th>experience_17</th>\n",
              "      <th>experience_18</th>\n",
              "      <th>experience_19</th>\n",
              "      <th>experience_2</th>\n",
              "      <th>experience_20</th>\n",
              "      <th>experience_3</th>\n",
              "      <th>experience_4</th>\n",
              "      <th>experience_5</th>\n",
              "      <th>experience_6</th>\n",
              "      <th>experience_7</th>\n",
              "      <th>experience_8</th>\n",
              "      <th>experience_9</th>\n",
              "      <th>experience_&lt;1</th>\n",
              "      <th>experience_&gt;20</th>\n",
              "      <th>company_size_10/49</th>\n",
              "      <th>company_size_100-500</th>\n",
              "      <th>company_size_1000-4999</th>\n",
              "      <th>company_size_10000+</th>\n",
              "      <th>company_size_50-99</th>\n",
              "      <th>company_size_500-999</th>\n",
              "      <th>company_size_5000-9999</th>\n",
              "      <th>company_size_&lt;10</th>\n",
              "      <th>company_type_Early Stage Startup</th>\n",
              "      <th>company_type_Funded Startup</th>\n",
              "      <th>company_type_NGO</th>\n",
              "      <th>company_type_Other</th>\n",
              "      <th>company_type_Public Sector</th>\n",
              "      <th>company_type_Pvt Ltd</th>\n",
              "      <th>last_new_job_1</th>\n",
              "      <th>last_new_job_2</th>\n",
              "      <th>last_new_job_3</th>\n",
              "      <th>last_new_job_4</th>\n",
              "      <th>last_new_job_&gt;4</th>\n",
              "      <th>last_new_job_never</th>\n",
              "    </tr>\n",
              "  </thead>\n",
              "  <tbody>\n",
              "    <tr>\n",
              "      <th>0</th>\n",
              "      <td>8949</td>\n",
              "      <td>0.920</td>\n",
              "      <td>36</td>\n",
              "      <td>1.0</td>\n",
              "      <td>0</td>\n",
              "      <td>0</td>\n",
              "      <td>0</td>\n",
              "      <td>0</td>\n",
              "      <td>0</td>\n",
              "      <td>1</td>\n",
              "      <td>0</td>\n",
              "      <td>0</td>\n",
              "      <td>0</td>\n",
              "      <td>0</td>\n",
              "      <td>0</td>\n",
              "      <td>0</td>\n",
              "      <td>0</td>\n",
              "      <td>0</td>\n",
              "      <td>0</td>\n",
              "      <td>0</td>\n",
              "      <td>0</td>\n",
              "      <td>0</td>\n",
              "      <td>0</td>\n",
              "      <td>0</td>\n",
              "      <td>0</td>\n",
              "      <td>0</td>\n",
              "      <td>0</td>\n",
              "      <td>0</td>\n",
              "      <td>0</td>\n",
              "      <td>0</td>\n",
              "      <td>0</td>\n",
              "      <td>0</td>\n",
              "      <td>0</td>\n",
              "      <td>0</td>\n",
              "      <td>0</td>\n",
              "      <td>0</td>\n",
              "      <td>0</td>\n",
              "      <td>0</td>\n",
              "      <td>0</td>\n",
              "      <td>0</td>\n",
              "      <td>...</td>\n",
              "      <td>0</td>\n",
              "      <td>0</td>\n",
              "      <td>0</td>\n",
              "      <td>0</td>\n",
              "      <td>0</td>\n",
              "      <td>0</td>\n",
              "      <td>0</td>\n",
              "      <td>0</td>\n",
              "      <td>0</td>\n",
              "      <td>0</td>\n",
              "      <td>0</td>\n",
              "      <td>0</td>\n",
              "      <td>0</td>\n",
              "      <td>0</td>\n",
              "      <td>0</td>\n",
              "      <td>0</td>\n",
              "      <td>0</td>\n",
              "      <td>0</td>\n",
              "      <td>0</td>\n",
              "      <td>1</td>\n",
              "      <td>0</td>\n",
              "      <td>0</td>\n",
              "      <td>0</td>\n",
              "      <td>0</td>\n",
              "      <td>0</td>\n",
              "      <td>0</td>\n",
              "      <td>0</td>\n",
              "      <td>0</td>\n",
              "      <td>0</td>\n",
              "      <td>0</td>\n",
              "      <td>0</td>\n",
              "      <td>0</td>\n",
              "      <td>0</td>\n",
              "      <td>0</td>\n",
              "      <td>1</td>\n",
              "      <td>0</td>\n",
              "      <td>0</td>\n",
              "      <td>0</td>\n",
              "      <td>0</td>\n",
              "      <td>0</td>\n",
              "    </tr>\n",
              "    <tr>\n",
              "      <th>1</th>\n",
              "      <td>29725</td>\n",
              "      <td>0.776</td>\n",
              "      <td>47</td>\n",
              "      <td>0.0</td>\n",
              "      <td>0</td>\n",
              "      <td>0</td>\n",
              "      <td>0</td>\n",
              "      <td>0</td>\n",
              "      <td>0</td>\n",
              "      <td>0</td>\n",
              "      <td>0</td>\n",
              "      <td>0</td>\n",
              "      <td>0</td>\n",
              "      <td>0</td>\n",
              "      <td>0</td>\n",
              "      <td>0</td>\n",
              "      <td>0</td>\n",
              "      <td>0</td>\n",
              "      <td>0</td>\n",
              "      <td>0</td>\n",
              "      <td>0</td>\n",
              "      <td>0</td>\n",
              "      <td>0</td>\n",
              "      <td>0</td>\n",
              "      <td>0</td>\n",
              "      <td>0</td>\n",
              "      <td>0</td>\n",
              "      <td>0</td>\n",
              "      <td>0</td>\n",
              "      <td>0</td>\n",
              "      <td>0</td>\n",
              "      <td>0</td>\n",
              "      <td>0</td>\n",
              "      <td>0</td>\n",
              "      <td>0</td>\n",
              "      <td>0</td>\n",
              "      <td>0</td>\n",
              "      <td>0</td>\n",
              "      <td>0</td>\n",
              "      <td>0</td>\n",
              "      <td>...</td>\n",
              "      <td>0</td>\n",
              "      <td>0</td>\n",
              "      <td>0</td>\n",
              "      <td>0</td>\n",
              "      <td>1</td>\n",
              "      <td>0</td>\n",
              "      <td>0</td>\n",
              "      <td>0</td>\n",
              "      <td>0</td>\n",
              "      <td>0</td>\n",
              "      <td>0</td>\n",
              "      <td>0</td>\n",
              "      <td>0</td>\n",
              "      <td>0</td>\n",
              "      <td>0</td>\n",
              "      <td>0</td>\n",
              "      <td>0</td>\n",
              "      <td>0</td>\n",
              "      <td>0</td>\n",
              "      <td>0</td>\n",
              "      <td>0</td>\n",
              "      <td>0</td>\n",
              "      <td>0</td>\n",
              "      <td>0</td>\n",
              "      <td>1</td>\n",
              "      <td>0</td>\n",
              "      <td>0</td>\n",
              "      <td>0</td>\n",
              "      <td>0</td>\n",
              "      <td>0</td>\n",
              "      <td>0</td>\n",
              "      <td>0</td>\n",
              "      <td>0</td>\n",
              "      <td>1</td>\n",
              "      <td>0</td>\n",
              "      <td>0</td>\n",
              "      <td>0</td>\n",
              "      <td>0</td>\n",
              "      <td>1</td>\n",
              "      <td>0</td>\n",
              "    </tr>\n",
              "    <tr>\n",
              "      <th>2</th>\n",
              "      <td>11561</td>\n",
              "      <td>0.624</td>\n",
              "      <td>83</td>\n",
              "      <td>0.0</td>\n",
              "      <td>0</td>\n",
              "      <td>0</td>\n",
              "      <td>0</td>\n",
              "      <td>0</td>\n",
              "      <td>0</td>\n",
              "      <td>0</td>\n",
              "      <td>0</td>\n",
              "      <td>0</td>\n",
              "      <td>0</td>\n",
              "      <td>0</td>\n",
              "      <td>0</td>\n",
              "      <td>0</td>\n",
              "      <td>0</td>\n",
              "      <td>0</td>\n",
              "      <td>0</td>\n",
              "      <td>0</td>\n",
              "      <td>0</td>\n",
              "      <td>0</td>\n",
              "      <td>0</td>\n",
              "      <td>0</td>\n",
              "      <td>0</td>\n",
              "      <td>0</td>\n",
              "      <td>0</td>\n",
              "      <td>0</td>\n",
              "      <td>0</td>\n",
              "      <td>0</td>\n",
              "      <td>0</td>\n",
              "      <td>0</td>\n",
              "      <td>0</td>\n",
              "      <td>0</td>\n",
              "      <td>0</td>\n",
              "      <td>0</td>\n",
              "      <td>0</td>\n",
              "      <td>0</td>\n",
              "      <td>0</td>\n",
              "      <td>0</td>\n",
              "      <td>...</td>\n",
              "      <td>0</td>\n",
              "      <td>0</td>\n",
              "      <td>0</td>\n",
              "      <td>0</td>\n",
              "      <td>0</td>\n",
              "      <td>0</td>\n",
              "      <td>0</td>\n",
              "      <td>0</td>\n",
              "      <td>0</td>\n",
              "      <td>0</td>\n",
              "      <td>0</td>\n",
              "      <td>0</td>\n",
              "      <td>0</td>\n",
              "      <td>1</td>\n",
              "      <td>0</td>\n",
              "      <td>0</td>\n",
              "      <td>0</td>\n",
              "      <td>0</td>\n",
              "      <td>0</td>\n",
              "      <td>0</td>\n",
              "      <td>0</td>\n",
              "      <td>0</td>\n",
              "      <td>0</td>\n",
              "      <td>0</td>\n",
              "      <td>0</td>\n",
              "      <td>0</td>\n",
              "      <td>0</td>\n",
              "      <td>0</td>\n",
              "      <td>0</td>\n",
              "      <td>0</td>\n",
              "      <td>0</td>\n",
              "      <td>0</td>\n",
              "      <td>0</td>\n",
              "      <td>0</td>\n",
              "      <td>0</td>\n",
              "      <td>0</td>\n",
              "      <td>0</td>\n",
              "      <td>0</td>\n",
              "      <td>0</td>\n",
              "      <td>1</td>\n",
              "    </tr>\n",
              "    <tr>\n",
              "      <th>3</th>\n",
              "      <td>33241</td>\n",
              "      <td>0.789</td>\n",
              "      <td>52</td>\n",
              "      <td>1.0</td>\n",
              "      <td>0</td>\n",
              "      <td>0</td>\n",
              "      <td>0</td>\n",
              "      <td>0</td>\n",
              "      <td>0</td>\n",
              "      <td>0</td>\n",
              "      <td>0</td>\n",
              "      <td>0</td>\n",
              "      <td>0</td>\n",
              "      <td>0</td>\n",
              "      <td>0</td>\n",
              "      <td>0</td>\n",
              "      <td>0</td>\n",
              "      <td>0</td>\n",
              "      <td>1</td>\n",
              "      <td>0</td>\n",
              "      <td>0</td>\n",
              "      <td>0</td>\n",
              "      <td>0</td>\n",
              "      <td>0</td>\n",
              "      <td>0</td>\n",
              "      <td>0</td>\n",
              "      <td>0</td>\n",
              "      <td>0</td>\n",
              "      <td>0</td>\n",
              "      <td>0</td>\n",
              "      <td>0</td>\n",
              "      <td>0</td>\n",
              "      <td>0</td>\n",
              "      <td>0</td>\n",
              "      <td>0</td>\n",
              "      <td>0</td>\n",
              "      <td>0</td>\n",
              "      <td>0</td>\n",
              "      <td>0</td>\n",
              "      <td>0</td>\n",
              "      <td>...</td>\n",
              "      <td>0</td>\n",
              "      <td>0</td>\n",
              "      <td>0</td>\n",
              "      <td>0</td>\n",
              "      <td>0</td>\n",
              "      <td>0</td>\n",
              "      <td>0</td>\n",
              "      <td>0</td>\n",
              "      <td>0</td>\n",
              "      <td>0</td>\n",
              "      <td>0</td>\n",
              "      <td>0</td>\n",
              "      <td>0</td>\n",
              "      <td>0</td>\n",
              "      <td>0</td>\n",
              "      <td>0</td>\n",
              "      <td>0</td>\n",
              "      <td>0</td>\n",
              "      <td>1</td>\n",
              "      <td>0</td>\n",
              "      <td>0</td>\n",
              "      <td>0</td>\n",
              "      <td>0</td>\n",
              "      <td>0</td>\n",
              "      <td>0</td>\n",
              "      <td>0</td>\n",
              "      <td>0</td>\n",
              "      <td>0</td>\n",
              "      <td>0</td>\n",
              "      <td>0</td>\n",
              "      <td>0</td>\n",
              "      <td>0</td>\n",
              "      <td>0</td>\n",
              "      <td>1</td>\n",
              "      <td>0</td>\n",
              "      <td>0</td>\n",
              "      <td>0</td>\n",
              "      <td>0</td>\n",
              "      <td>0</td>\n",
              "      <td>1</td>\n",
              "    </tr>\n",
              "    <tr>\n",
              "      <th>4</th>\n",
              "      <td>666</td>\n",
              "      <td>0.767</td>\n",
              "      <td>8</td>\n",
              "      <td>0.0</td>\n",
              "      <td>0</td>\n",
              "      <td>0</td>\n",
              "      <td>0</td>\n",
              "      <td>0</td>\n",
              "      <td>0</td>\n",
              "      <td>0</td>\n",
              "      <td>0</td>\n",
              "      <td>0</td>\n",
              "      <td>0</td>\n",
              "      <td>0</td>\n",
              "      <td>0</td>\n",
              "      <td>0</td>\n",
              "      <td>0</td>\n",
              "      <td>0</td>\n",
              "      <td>0</td>\n",
              "      <td>0</td>\n",
              "      <td>0</td>\n",
              "      <td>0</td>\n",
              "      <td>0</td>\n",
              "      <td>0</td>\n",
              "      <td>0</td>\n",
              "      <td>0</td>\n",
              "      <td>0</td>\n",
              "      <td>0</td>\n",
              "      <td>0</td>\n",
              "      <td>0</td>\n",
              "      <td>0</td>\n",
              "      <td>0</td>\n",
              "      <td>0</td>\n",
              "      <td>0</td>\n",
              "      <td>0</td>\n",
              "      <td>0</td>\n",
              "      <td>0</td>\n",
              "      <td>0</td>\n",
              "      <td>0</td>\n",
              "      <td>0</td>\n",
              "      <td>...</td>\n",
              "      <td>0</td>\n",
              "      <td>0</td>\n",
              "      <td>0</td>\n",
              "      <td>0</td>\n",
              "      <td>0</td>\n",
              "      <td>0</td>\n",
              "      <td>0</td>\n",
              "      <td>0</td>\n",
              "      <td>0</td>\n",
              "      <td>0</td>\n",
              "      <td>0</td>\n",
              "      <td>0</td>\n",
              "      <td>0</td>\n",
              "      <td>0</td>\n",
              "      <td>0</td>\n",
              "      <td>0</td>\n",
              "      <td>0</td>\n",
              "      <td>0</td>\n",
              "      <td>0</td>\n",
              "      <td>1</td>\n",
              "      <td>0</td>\n",
              "      <td>0</td>\n",
              "      <td>0</td>\n",
              "      <td>0</td>\n",
              "      <td>1</td>\n",
              "      <td>0</td>\n",
              "      <td>0</td>\n",
              "      <td>0</td>\n",
              "      <td>0</td>\n",
              "      <td>1</td>\n",
              "      <td>0</td>\n",
              "      <td>0</td>\n",
              "      <td>0</td>\n",
              "      <td>0</td>\n",
              "      <td>0</td>\n",
              "      <td>0</td>\n",
              "      <td>0</td>\n",
              "      <td>1</td>\n",
              "      <td>0</td>\n",
              "      <td>0</td>\n",
              "    </tr>\n",
              "    <tr>\n",
              "      <th>...</th>\n",
              "      <td>...</td>\n",
              "      <td>...</td>\n",
              "      <td>...</td>\n",
              "      <td>...</td>\n",
              "      <td>...</td>\n",
              "      <td>...</td>\n",
              "      <td>...</td>\n",
              "      <td>...</td>\n",
              "      <td>...</td>\n",
              "      <td>...</td>\n",
              "      <td>...</td>\n",
              "      <td>...</td>\n",
              "      <td>...</td>\n",
              "      <td>...</td>\n",
              "      <td>...</td>\n",
              "      <td>...</td>\n",
              "      <td>...</td>\n",
              "      <td>...</td>\n",
              "      <td>...</td>\n",
              "      <td>...</td>\n",
              "      <td>...</td>\n",
              "      <td>...</td>\n",
              "      <td>...</td>\n",
              "      <td>...</td>\n",
              "      <td>...</td>\n",
              "      <td>...</td>\n",
              "      <td>...</td>\n",
              "      <td>...</td>\n",
              "      <td>...</td>\n",
              "      <td>...</td>\n",
              "      <td>...</td>\n",
              "      <td>...</td>\n",
              "      <td>...</td>\n",
              "      <td>...</td>\n",
              "      <td>...</td>\n",
              "      <td>...</td>\n",
              "      <td>...</td>\n",
              "      <td>...</td>\n",
              "      <td>...</td>\n",
              "      <td>...</td>\n",
              "      <td>...</td>\n",
              "      <td>...</td>\n",
              "      <td>...</td>\n",
              "      <td>...</td>\n",
              "      <td>...</td>\n",
              "      <td>...</td>\n",
              "      <td>...</td>\n",
              "      <td>...</td>\n",
              "      <td>...</td>\n",
              "      <td>...</td>\n",
              "      <td>...</td>\n",
              "      <td>...</td>\n",
              "      <td>...</td>\n",
              "      <td>...</td>\n",
              "      <td>...</td>\n",
              "      <td>...</td>\n",
              "      <td>...</td>\n",
              "      <td>...</td>\n",
              "      <td>...</td>\n",
              "      <td>...</td>\n",
              "      <td>...</td>\n",
              "      <td>...</td>\n",
              "      <td>...</td>\n",
              "      <td>...</td>\n",
              "      <td>...</td>\n",
              "      <td>...</td>\n",
              "      <td>...</td>\n",
              "      <td>...</td>\n",
              "      <td>...</td>\n",
              "      <td>...</td>\n",
              "      <td>...</td>\n",
              "      <td>...</td>\n",
              "      <td>...</td>\n",
              "      <td>...</td>\n",
              "      <td>...</td>\n",
              "      <td>...</td>\n",
              "      <td>...</td>\n",
              "      <td>...</td>\n",
              "      <td>...</td>\n",
              "      <td>...</td>\n",
              "      <td>...</td>\n",
              "    </tr>\n",
              "    <tr>\n",
              "      <th>19153</th>\n",
              "      <td>7386</td>\n",
              "      <td>0.878</td>\n",
              "      <td>42</td>\n",
              "      <td>1.0</td>\n",
              "      <td>0</td>\n",
              "      <td>0</td>\n",
              "      <td>0</td>\n",
              "      <td>0</td>\n",
              "      <td>0</td>\n",
              "      <td>0</td>\n",
              "      <td>0</td>\n",
              "      <td>0</td>\n",
              "      <td>0</td>\n",
              "      <td>0</td>\n",
              "      <td>0</td>\n",
              "      <td>0</td>\n",
              "      <td>0</td>\n",
              "      <td>0</td>\n",
              "      <td>0</td>\n",
              "      <td>0</td>\n",
              "      <td>0</td>\n",
              "      <td>0</td>\n",
              "      <td>0</td>\n",
              "      <td>0</td>\n",
              "      <td>0</td>\n",
              "      <td>0</td>\n",
              "      <td>0</td>\n",
              "      <td>0</td>\n",
              "      <td>0</td>\n",
              "      <td>0</td>\n",
              "      <td>0</td>\n",
              "      <td>0</td>\n",
              "      <td>0</td>\n",
              "      <td>0</td>\n",
              "      <td>0</td>\n",
              "      <td>0</td>\n",
              "      <td>0</td>\n",
              "      <td>0</td>\n",
              "      <td>0</td>\n",
              "      <td>0</td>\n",
              "      <td>...</td>\n",
              "      <td>0</td>\n",
              "      <td>0</td>\n",
              "      <td>0</td>\n",
              "      <td>1</td>\n",
              "      <td>0</td>\n",
              "      <td>0</td>\n",
              "      <td>0</td>\n",
              "      <td>0</td>\n",
              "      <td>0</td>\n",
              "      <td>0</td>\n",
              "      <td>0</td>\n",
              "      <td>0</td>\n",
              "      <td>0</td>\n",
              "      <td>0</td>\n",
              "      <td>0</td>\n",
              "      <td>0</td>\n",
              "      <td>0</td>\n",
              "      <td>0</td>\n",
              "      <td>0</td>\n",
              "      <td>0</td>\n",
              "      <td>0</td>\n",
              "      <td>0</td>\n",
              "      <td>0</td>\n",
              "      <td>0</td>\n",
              "      <td>0</td>\n",
              "      <td>0</td>\n",
              "      <td>0</td>\n",
              "      <td>0</td>\n",
              "      <td>0</td>\n",
              "      <td>0</td>\n",
              "      <td>0</td>\n",
              "      <td>0</td>\n",
              "      <td>0</td>\n",
              "      <td>0</td>\n",
              "      <td>1</td>\n",
              "      <td>0</td>\n",
              "      <td>0</td>\n",
              "      <td>0</td>\n",
              "      <td>0</td>\n",
              "      <td>0</td>\n",
              "    </tr>\n",
              "    <tr>\n",
              "      <th>19154</th>\n",
              "      <td>31398</td>\n",
              "      <td>0.920</td>\n",
              "      <td>52</td>\n",
              "      <td>1.0</td>\n",
              "      <td>0</td>\n",
              "      <td>0</td>\n",
              "      <td>0</td>\n",
              "      <td>0</td>\n",
              "      <td>0</td>\n",
              "      <td>1</td>\n",
              "      <td>0</td>\n",
              "      <td>0</td>\n",
              "      <td>0</td>\n",
              "      <td>0</td>\n",
              "      <td>0</td>\n",
              "      <td>0</td>\n",
              "      <td>0</td>\n",
              "      <td>0</td>\n",
              "      <td>0</td>\n",
              "      <td>0</td>\n",
              "      <td>0</td>\n",
              "      <td>0</td>\n",
              "      <td>0</td>\n",
              "      <td>0</td>\n",
              "      <td>0</td>\n",
              "      <td>0</td>\n",
              "      <td>0</td>\n",
              "      <td>0</td>\n",
              "      <td>0</td>\n",
              "      <td>0</td>\n",
              "      <td>0</td>\n",
              "      <td>0</td>\n",
              "      <td>0</td>\n",
              "      <td>0</td>\n",
              "      <td>0</td>\n",
              "      <td>0</td>\n",
              "      <td>0</td>\n",
              "      <td>0</td>\n",
              "      <td>0</td>\n",
              "      <td>0</td>\n",
              "      <td>...</td>\n",
              "      <td>0</td>\n",
              "      <td>0</td>\n",
              "      <td>0</td>\n",
              "      <td>1</td>\n",
              "      <td>0</td>\n",
              "      <td>0</td>\n",
              "      <td>0</td>\n",
              "      <td>0</td>\n",
              "      <td>0</td>\n",
              "      <td>0</td>\n",
              "      <td>0</td>\n",
              "      <td>0</td>\n",
              "      <td>0</td>\n",
              "      <td>0</td>\n",
              "      <td>0</td>\n",
              "      <td>0</td>\n",
              "      <td>0</td>\n",
              "      <td>0</td>\n",
              "      <td>0</td>\n",
              "      <td>0</td>\n",
              "      <td>0</td>\n",
              "      <td>0</td>\n",
              "      <td>0</td>\n",
              "      <td>0</td>\n",
              "      <td>0</td>\n",
              "      <td>0</td>\n",
              "      <td>0</td>\n",
              "      <td>0</td>\n",
              "      <td>0</td>\n",
              "      <td>0</td>\n",
              "      <td>0</td>\n",
              "      <td>0</td>\n",
              "      <td>0</td>\n",
              "      <td>0</td>\n",
              "      <td>0</td>\n",
              "      <td>0</td>\n",
              "      <td>0</td>\n",
              "      <td>1</td>\n",
              "      <td>0</td>\n",
              "      <td>0</td>\n",
              "    </tr>\n",
              "    <tr>\n",
              "      <th>19155</th>\n",
              "      <td>24576</td>\n",
              "      <td>0.920</td>\n",
              "      <td>44</td>\n",
              "      <td>0.0</td>\n",
              "      <td>0</td>\n",
              "      <td>0</td>\n",
              "      <td>0</td>\n",
              "      <td>0</td>\n",
              "      <td>0</td>\n",
              "      <td>1</td>\n",
              "      <td>0</td>\n",
              "      <td>0</td>\n",
              "      <td>0</td>\n",
              "      <td>0</td>\n",
              "      <td>0</td>\n",
              "      <td>0</td>\n",
              "      <td>0</td>\n",
              "      <td>0</td>\n",
              "      <td>0</td>\n",
              "      <td>0</td>\n",
              "      <td>0</td>\n",
              "      <td>0</td>\n",
              "      <td>0</td>\n",
              "      <td>0</td>\n",
              "      <td>0</td>\n",
              "      <td>0</td>\n",
              "      <td>0</td>\n",
              "      <td>0</td>\n",
              "      <td>0</td>\n",
              "      <td>0</td>\n",
              "      <td>0</td>\n",
              "      <td>0</td>\n",
              "      <td>0</td>\n",
              "      <td>0</td>\n",
              "      <td>0</td>\n",
              "      <td>0</td>\n",
              "      <td>0</td>\n",
              "      <td>0</td>\n",
              "      <td>0</td>\n",
              "      <td>0</td>\n",
              "      <td>...</td>\n",
              "      <td>0</td>\n",
              "      <td>0</td>\n",
              "      <td>0</td>\n",
              "      <td>0</td>\n",
              "      <td>0</td>\n",
              "      <td>0</td>\n",
              "      <td>0</td>\n",
              "      <td>0</td>\n",
              "      <td>0</td>\n",
              "      <td>0</td>\n",
              "      <td>0</td>\n",
              "      <td>0</td>\n",
              "      <td>0</td>\n",
              "      <td>0</td>\n",
              "      <td>0</td>\n",
              "      <td>0</td>\n",
              "      <td>0</td>\n",
              "      <td>0</td>\n",
              "      <td>0</td>\n",
              "      <td>1</td>\n",
              "      <td>0</td>\n",
              "      <td>0</td>\n",
              "      <td>0</td>\n",
              "      <td>0</td>\n",
              "      <td>1</td>\n",
              "      <td>0</td>\n",
              "      <td>0</td>\n",
              "      <td>0</td>\n",
              "      <td>0</td>\n",
              "      <td>0</td>\n",
              "      <td>0</td>\n",
              "      <td>0</td>\n",
              "      <td>0</td>\n",
              "      <td>1</td>\n",
              "      <td>0</td>\n",
              "      <td>0</td>\n",
              "      <td>0</td>\n",
              "      <td>1</td>\n",
              "      <td>0</td>\n",
              "      <td>0</td>\n",
              "    </tr>\n",
              "    <tr>\n",
              "      <th>19156</th>\n",
              "      <td>5756</td>\n",
              "      <td>0.802</td>\n",
              "      <td>97</td>\n",
              "      <td>0.0</td>\n",
              "      <td>0</td>\n",
              "      <td>0</td>\n",
              "      <td>0</td>\n",
              "      <td>0</td>\n",
              "      <td>0</td>\n",
              "      <td>0</td>\n",
              "      <td>0</td>\n",
              "      <td>0</td>\n",
              "      <td>0</td>\n",
              "      <td>0</td>\n",
              "      <td>0</td>\n",
              "      <td>0</td>\n",
              "      <td>0</td>\n",
              "      <td>0</td>\n",
              "      <td>0</td>\n",
              "      <td>0</td>\n",
              "      <td>0</td>\n",
              "      <td>0</td>\n",
              "      <td>0</td>\n",
              "      <td>0</td>\n",
              "      <td>0</td>\n",
              "      <td>0</td>\n",
              "      <td>0</td>\n",
              "      <td>0</td>\n",
              "      <td>0</td>\n",
              "      <td>0</td>\n",
              "      <td>0</td>\n",
              "      <td>0</td>\n",
              "      <td>0</td>\n",
              "      <td>0</td>\n",
              "      <td>0</td>\n",
              "      <td>0</td>\n",
              "      <td>0</td>\n",
              "      <td>0</td>\n",
              "      <td>0</td>\n",
              "      <td>0</td>\n",
              "      <td>...</td>\n",
              "      <td>0</td>\n",
              "      <td>0</td>\n",
              "      <td>0</td>\n",
              "      <td>0</td>\n",
              "      <td>0</td>\n",
              "      <td>0</td>\n",
              "      <td>0</td>\n",
              "      <td>0</td>\n",
              "      <td>0</td>\n",
              "      <td>0</td>\n",
              "      <td>0</td>\n",
              "      <td>0</td>\n",
              "      <td>0</td>\n",
              "      <td>0</td>\n",
              "      <td>0</td>\n",
              "      <td>0</td>\n",
              "      <td>0</td>\n",
              "      <td>0</td>\n",
              "      <td>1</td>\n",
              "      <td>0</td>\n",
              "      <td>0</td>\n",
              "      <td>0</td>\n",
              "      <td>0</td>\n",
              "      <td>0</td>\n",
              "      <td>0</td>\n",
              "      <td>1</td>\n",
              "      <td>0</td>\n",
              "      <td>0</td>\n",
              "      <td>0</td>\n",
              "      <td>0</td>\n",
              "      <td>0</td>\n",
              "      <td>0</td>\n",
              "      <td>0</td>\n",
              "      <td>1</td>\n",
              "      <td>0</td>\n",
              "      <td>1</td>\n",
              "      <td>0</td>\n",
              "      <td>0</td>\n",
              "      <td>0</td>\n",
              "      <td>0</td>\n",
              "    </tr>\n",
              "    <tr>\n",
              "      <th>19157</th>\n",
              "      <td>23834</td>\n",
              "      <td>0.855</td>\n",
              "      <td>127</td>\n",
              "      <td>0.0</td>\n",
              "      <td>0</td>\n",
              "      <td>0</td>\n",
              "      <td>0</td>\n",
              "      <td>0</td>\n",
              "      <td>0</td>\n",
              "      <td>0</td>\n",
              "      <td>0</td>\n",
              "      <td>0</td>\n",
              "      <td>0</td>\n",
              "      <td>0</td>\n",
              "      <td>0</td>\n",
              "      <td>0</td>\n",
              "      <td>0</td>\n",
              "      <td>0</td>\n",
              "      <td>0</td>\n",
              "      <td>0</td>\n",
              "      <td>0</td>\n",
              "      <td>0</td>\n",
              "      <td>0</td>\n",
              "      <td>0</td>\n",
              "      <td>0</td>\n",
              "      <td>0</td>\n",
              "      <td>0</td>\n",
              "      <td>0</td>\n",
              "      <td>0</td>\n",
              "      <td>0</td>\n",
              "      <td>0</td>\n",
              "      <td>0</td>\n",
              "      <td>0</td>\n",
              "      <td>0</td>\n",
              "      <td>0</td>\n",
              "      <td>0</td>\n",
              "      <td>0</td>\n",
              "      <td>0</td>\n",
              "      <td>0</td>\n",
              "      <td>0</td>\n",
              "      <td>...</td>\n",
              "      <td>0</td>\n",
              "      <td>0</td>\n",
              "      <td>0</td>\n",
              "      <td>0</td>\n",
              "      <td>0</td>\n",
              "      <td>0</td>\n",
              "      <td>0</td>\n",
              "      <td>0</td>\n",
              "      <td>0</td>\n",
              "      <td>1</td>\n",
              "      <td>0</td>\n",
              "      <td>0</td>\n",
              "      <td>0</td>\n",
              "      <td>0</td>\n",
              "      <td>0</td>\n",
              "      <td>0</td>\n",
              "      <td>0</td>\n",
              "      <td>0</td>\n",
              "      <td>0</td>\n",
              "      <td>0</td>\n",
              "      <td>0</td>\n",
              "      <td>0</td>\n",
              "      <td>0</td>\n",
              "      <td>0</td>\n",
              "      <td>0</td>\n",
              "      <td>0</td>\n",
              "      <td>0</td>\n",
              "      <td>0</td>\n",
              "      <td>0</td>\n",
              "      <td>0</td>\n",
              "      <td>0</td>\n",
              "      <td>0</td>\n",
              "      <td>0</td>\n",
              "      <td>0</td>\n",
              "      <td>1</td>\n",
              "      <td>0</td>\n",
              "      <td>0</td>\n",
              "      <td>0</td>\n",
              "      <td>0</td>\n",
              "      <td>0</td>\n",
              "    </tr>\n",
              "  </tbody>\n",
              "</table>\n",
              "<p>19158 rows × 188 columns</p>\n",
              "</div>"
            ],
            "text/plain": [
              "       enrollee_id  city_development_index  ...  last_new_job_>4  last_new_job_never\n",
              "0             8949                   0.920  ...                0                   0\n",
              "1            29725                   0.776  ...                1                   0\n",
              "2            11561                   0.624  ...                0                   1\n",
              "3            33241                   0.789  ...                0                   1\n",
              "4              666                   0.767  ...                0                   0\n",
              "...            ...                     ...  ...              ...                 ...\n",
              "19153         7386                   0.878  ...                0                   0\n",
              "19154        31398                   0.920  ...                0                   0\n",
              "19155        24576                   0.920  ...                0                   0\n",
              "19156         5756                   0.802  ...                0                   0\n",
              "19157        23834                   0.855  ...                0                   0\n",
              "\n",
              "[19158 rows x 188 columns]"
            ]
          },
          "metadata": {},
          "execution_count": 26
        }
      ]
    },
    {
      "cell_type": "code",
      "metadata": {
        "id": "Y4zmljRtRi9y"
      },
      "source": [
        "X = encoding_train.drop(\"target\", axis = 1)\n",
        "y = encoding_train[\"target\"]\n",
        "\n",
        "X_train, X_test, y_train, y_test = train_test_split(X,y, test_size = 0.25, random_state = 42)"
      ],
      "execution_count": 27,
      "outputs": []
    },
    {
      "cell_type": "markdown",
      "metadata": {
        "id": "2c4Z7AWwFcGo"
      },
      "source": [
        "## Pelo modelo de árvores\n",
        "\n"
      ]
    },
    {
      "cell_type": "code",
      "metadata": {
        "id": "ffKD5NzrK7E8"
      },
      "source": [
        "from sklearn.ensemble import RandomForestClassifier"
      ],
      "execution_count": null,
      "outputs": []
    },
    {
      "cell_type": "markdown",
      "metadata": {
        "id": "lHMHzF1aummK"
      },
      "source": [
        "###Usando entropy:"
      ]
    },
    {
      "cell_type": "markdown",
      "metadata": {
        "id": "dLrS1d9U-mpR"
      },
      "source": [
        "Eu fiz esse teste que iterou 1642 vezes, levando uns 40 min, porque eu queria ver se haveria muita diferença, mas praticamente não houve do 20 ao 40. \n",
        "\n",
        "Previamente, eu tinha escolhido o d ideal para o split de 50 e, depois, usei esse d para pegar seu split ideal, o valor foi de .788 para .789, o que muda muito pouco para esse final que fiz (.791). Eu não sabia se faria muita diferença ou não, pois nunca tinha programado uma aprendizagem antes e queria ver se esperar todo esse tempo para calcular mais opções faria diferença. Como não fez, não pretendo repetir esse método de iterar duas variáveis juntas para as próximas aprendizagens. Contudo, deixarei o código que usei aqui como comentário para esse valor maximizado e uso os valores de d e s que encontrei para fazer um único cálculo."
      ]
    },
    {
      "cell_type": "code",
      "metadata": {
        "id": "EuEJDsJulylQ"
      },
      "source": [
        "#depth_range = range(1, 41)\n",
        "#samples_range = range(40,61)\n",
        "\n",
        "#oob_score_max = []\n",
        "#s_max = []\n",
        "#oob_max = 0\n",
        "\n",
        "\n",
        "#for d in depth_range:\n",
        "#  for s in samples_range:\n",
        "#    rf = RandomForestClassifier(\n",
        "#      max_depth=d,\n",
        "#      n_estimators=200,\n",
        "#      min_samples_split = s,\n",
        "#      criterion='entropy',\n",
        "#      oob_score=True,\n",
        "#      random_state=42\n",
        "#  )\n",
        "\n",
        "#    rf.fit(X_train, y_train)\n",
        "    \n",
        "#    if rf.oob_score_ >= oob_max:\n",
        "#      oob_max = rf.oob_score_\n",
        "#      alpha = s\n",
        "\n",
        "#  oob_score_max.append(oob_max)\n",
        "#  s_max.append(alpha)"
      ],
      "execution_count": null,
      "outputs": []
    },
    {
      "cell_type": "code",
      "metadata": {
        "id": "j1QSu4gb6vOV"
      },
      "source": [
        "#plt.figure(figsize = (10,10))\n",
        "#curva, = plt.plot(depth_range, oob_score_max) \n",
        "\n",
        "# Por algum motivo misterioso a \",\" é necessária\n",
        "# para mudar o tipo da \"curva\" de \"list\" para \"matplotlib.lines.Line2D\"\n",
        "#plt.show()"
      ],
      "execution_count": null,
      "outputs": []
    },
    {
      "cell_type": "code",
      "metadata": {
        "id": "QNmPOvi78FaU"
      },
      "source": [
        "#y_data = curva.get_ydata()\n",
        "\n",
        "#indice_max = y_data.argmax()\n",
        "\n",
        "\n",
        "#x_data = curva.get_xdata()\n",
        "#x_data[indice_max]\n",
        "\n",
        "#s_max[indice_max]\n",
        "\n",
        "#print (f\"O valor máximo de oob é de {np.amax(y_data):.3},\\n usando depth = {x_data[indice_max]} e mínimo sample split = {s_max[indice_max]}.\")"
      ],
      "execution_count": null,
      "outputs": []
    },
    {
      "cell_type": "code",
      "metadata": {
        "colab": {
          "base_uri": "https://localhost:8080/"
        },
        "id": "451SE7bVTQRO",
        "outputId": "d699b396-20b0-441f-a003-89c0a07c6218"
      },
      "source": [
        "rf = RandomForestClassifier(\n",
        "    max_depth=37,\n",
        "    n_estimators=200,\n",
        "    min_samples_split=51,\n",
        "    criterion='entropy',\n",
        "    oob_score=True,\n",
        "    random_state=42\n",
        ")\n",
        "\n",
        "rf.fit(X_train, y_train)"
      ],
      "execution_count": null,
      "outputs": [
        {
          "name": "stderr",
          "output_type": "stream",
          "text": [
            "/usr/local/lib/python3.7/dist-packages/sklearn/base.py:446: UserWarning: X does not have valid feature names, but RandomForestClassifier was fitted with feature names\n",
            "  \"X does not have valid feature names, but\"\n"
          ]
        },
        {
          "data": {
            "text/plain": [
              "RandomForestClassifier(criterion='entropy', max_depth=37, min_samples_split=51,\n",
              "                       n_estimators=200, oob_score=True, random_state=42)"
            ]
          },
          "execution_count": 69,
          "metadata": {},
          "output_type": "execute_result"
        }
      ]
    },
    {
      "cell_type": "code",
      "metadata": {
        "colab": {
          "base_uri": "https://localhost:8080/"
        },
        "id": "NIBqz_VQDa1B",
        "outputId": "1450c57d-f191-4b0d-cc76-728d21e513b2"
      },
      "source": [
        "y_predict = rf.predict(X_test)\n",
        "accuracy = accuracy_score(y_test, y_predict)\n",
        "print(f'Out-of-bag score estimate: {rf.oob_score_:.3}')\n",
        "print(f'Mean accuracy score: {accuracy:.3}')"
      ],
      "execution_count": null,
      "outputs": [
        {
          "name": "stdout",
          "output_type": "stream",
          "text": [
            "Out-of-bag score estimate: 0.791\n",
            "Mean accuracy score: 0.778\n"
          ]
        }
      ]
    },
    {
      "cell_type": "code",
      "metadata": {
        "colab": {
          "base_uri": "https://localhost:8080/"
        },
        "id": "2lp5RGmNEoyX",
        "outputId": "924c03f7-9724-4947-a3aa-fe69378745a2"
      },
      "source": [
        "cm = confusion_matrix(y_test, y_predict)\n",
        "fig, (ax) = plt.subplots(1, 1, figsize=(8,7))\n",
        "sns.heatmap(cm, annot=True, ax = ax,fmt='g')\n",
        "# labels, title and ticks\n",
        "ax.set_xlabel('Predicted labels')\n",
        "ax.set_ylabel('True labels');\n",
        "ax.set_title('Confusion Matrix')\n",
        "sns.set(font_scale=1.5)\n",
        "ax.xaxis.set_ticklabels(['0', '1'])\n",
        "ax.yaxis.set_ticklabels(['0', '1'])\n",
        "plt.show()"
      ],
      "execution_count": null,
      "outputs": [
        {
          "data": {
            "image/png": "[encoded data removed]",
            "text/plain": [
              "<Figure size 576x504 with 2 Axes>"
            ]
          },
          "metadata": {},
          "output_type": "display_data"
        }
      ]
    },
    {
      "cell_type": "code",
      "metadata": {
        "colab": {
          "base_uri": "https://localhost:8080/"
        },
        "id": "tbusTmXZHDjK",
        "outputId": "51c8e8aa-f7d8-4ff0-ebbd-ae3d818c33d5"
      },
      "source": [
        "y_pred1 = rf.predict(X_test)\n",
        "print('RF usando entropia:')\n",
        "print(classification_report(y_test, y_pred1))"
      ],
      "execution_count": null,
      "outputs": [
        {
          "name": "stdout",
          "output_type": "stream",
          "text": [
            "RF usando entropia:\n",
            "              precision    recall  f1-score   support\n",
            "\n",
            "         0.0       0.83      0.89      0.86      3584\n",
            "         1.0       0.58      0.45      0.50      1206\n",
            "\n",
            "    accuracy                           0.78      4790\n",
            "   macro avg       0.70      0.67      0.68      4790\n",
            "weighted avg       0.76      0.78      0.77      4790\n",
            "\n"
          ]
        }
      ]
    },
    {
      "cell_type": "markdown",
      "metadata": {
        "id": "A53bRvg3FbFU"
      },
      "source": [
        "### Usando Gini"
      ]
    },
    {
      "cell_type": "code",
      "metadata": {
        "colab": {
          "base_uri": "https://localhost:8080/"
        },
        "id": "6vcHZApvFdPE",
        "outputId": "4e91ca37-50b1-4a57-c7cd-c16eed51971c"
      },
      "source": [
        "rf = RandomForestClassifier(\n",
        "    max_depth=37,\n",
        "    n_estimators=200,\n",
        "    min_samples_split=51,\n",
        "    criterion='gini',\n",
        "    oob_score=True,\n",
        "    random_state=42\n",
        ")\n",
        "\n",
        "rf.fit(X_train, y_train)"
      ],
      "execution_count": null,
      "outputs": [
        {
          "name": "stderr",
          "output_type": "stream",
          "text": [
            "/usr/local/lib/python3.7/dist-packages/sklearn/base.py:446: UserWarning: X does not have valid feature names, but RandomForestClassifier was fitted with feature names\n",
            "  \"X does not have valid feature names, but\"\n"
          ]
        },
        {
          "data": {
            "text/plain": [
              "RandomForestClassifier(max_depth=37, min_samples_split=51, n_estimators=200,\n",
              "                       oob_score=True, random_state=42)"
            ]
          },
          "execution_count": 73,
          "metadata": {},
          "output_type": "execute_result"
        }
      ]
    },
    {
      "cell_type": "code",
      "metadata": {
        "colab": {
          "base_uri": "https://localhost:8080/"
        },
        "id": "OL_uRu4DK07B",
        "outputId": "2a2e220c-42a4-4c02-d680-1070d1d90b6b"
      },
      "source": [
        "y_predict = rf.predict(X_test)\n",
        "accuracy = accuracy_score(y_test, y_predict)\n",
        "print(f'Out-of-bag score estimate: {rf.oob_score_:.3}')\n",
        "print(f'Mean accuracy score: {accuracy:.3}')"
      ],
      "execution_count": null,
      "outputs": [
        {
          "name": "stdout",
          "output_type": "stream",
          "text": [
            "Out-of-bag score estimate: 0.787\n",
            "Mean accuracy score: 0.773\n"
          ]
        }
      ]
    },
    {
      "cell_type": "code",
      "metadata": {
        "colab": {
          "base_uri": "https://localhost:8080/"
        },
        "id": "7Nw5gQncK42g",
        "outputId": "90b38080-1650-4321-e91e-73d2cf760f46"
      },
      "source": [
        "cm = confusion_matrix(y_test, y_predict)\n",
        "fig, (ax) = plt.subplots(1, 1, figsize=(8,7))\n",
        "sns.heatmap(cm, annot=True, ax = ax,fmt='g')\n",
        "# labels, title and ticks\n",
        "ax.set_xlabel('Predicted labels')\n",
        "ax.set_ylabel('True labels');\n",
        "ax.set_title('Confusion Matrix')\n",
        "sns.set(font_scale=1.5)\n",
        "ax.xaxis.set_ticklabels(['0', '1'])\n",
        "ax.yaxis.set_ticklabels(['0', '1'])\n",
        "plt.show()"
      ],
      "execution_count": null,
      "outputs": [
        {
          "data": {
            "image/png": "[encoded data removed]",
            "text/plain": [
              "<Figure size 576x504 with 2 Axes>"
            ]
          },
          "metadata": {},
          "output_type": "display_data"
        }
      ]
    },
    {
      "cell_type": "code",
      "metadata": {
        "colab": {
          "base_uri": "https://localhost:8080/"
        },
        "id": "p5S-HuVVK7_I",
        "outputId": "90c4247b-458e-4442-f295-3096c44b4724"
      },
      "source": [
        "y_pred1 = rf.predict(X_test)\n",
        "print('RF usando gini:')\n",
        "print(classification_report(y_test, y_pred1))"
      ],
      "execution_count": null,
      "outputs": [
        {
          "name": "stdout",
          "output_type": "stream",
          "text": [
            "RF usando gini:\n",
            "              precision    recall  f1-score   support\n",
            "\n",
            "         0.0       0.82      0.89      0.85      3584\n",
            "         1.0       0.57      0.42      0.48      1206\n",
            "\n",
            "    accuracy                           0.77      4790\n",
            "   macro avg       0.69      0.66      0.67      4790\n",
            "weighted avg       0.76      0.77      0.76      4790\n",
            "\n"
          ]
        }
      ]
    },
    {
      "cell_type": "markdown",
      "metadata": {
        "id": "aNWirebiboOK"
      },
      "source": [
        "## KNN"
      ]
    },
    {
      "cell_type": "code",
      "metadata": {
        "id": "MUzJqRRXMm4_"
      },
      "source": [
        "from sklearn.neighbors import KNeighborsClassifier"
      ],
      "execution_count": null,
      "outputs": []
    },
    {
      "cell_type": "code",
      "metadata": {
        "id": "dakXZqC8NC6U"
      },
      "source": [
        "k_range = range(1, 120)\n",
        "scores_list = []\n",
        "\n",
        "for k in k_range:\n",
        "  model = KNeighborsClassifier(n_neighbors = k)\n",
        "  model.fit(X_train, y_train)\n",
        "  y_predict = model.predict(X_test)\n",
        "\n",
        "  scores_list.append(accuracy_score(y_test, y_predict))"
      ],
      "execution_count": null,
      "outputs": []
    },
    {
      "cell_type": "code",
      "metadata": {
        "colab": {
          "base_uri": "https://localhost:8080/"
        },
        "id": "JIVLbzEqSBRS",
        "outputId": "c3e3ac15-5247-4778-96b6-8c29db357c61"
      },
      "source": [
        "plt.figure(figsize = (10, 8))\n",
        "curva, = plt.plot(k_range, scores_list)\n",
        "\n",
        "# Por algum motivo misterioso a \",\" é necessária\n",
        "# para mudar o tipo da \"curva\" de \"list\" para \"matplotlib.lines.Line2D\"\n",
        "plt.show()"
      ],
      "execution_count": null,
      "outputs": [
        {
          "data": {
            "image/png": "[encoded data removed]",
            "text/plain": [
              "<Figure size 720x576 with 1 Axes>"
            ]
          },
          "metadata": {},
          "output_type": "display_data"
        }
      ]
    },
    {
      "cell_type": "code",
      "metadata": {
        "colab": {
          "base_uri": "https://localhost:8080/"
        },
        "id": "Knkqu0B5TrCn",
        "outputId": "643a9de8-5eeb-465c-891d-cf9c8d365933"
      },
      "source": [
        "y_data = scores_list\n",
        "max_y = np.amax(y_data)\n",
        "indice_max = y_data.index(max_y)\n",
        "\n",
        "x_data = k_range\n",
        "print(x_data[indice_max])"
      ],
      "execution_count": null,
      "outputs": [
        {
          "name": "stdout",
          "output_type": "stream",
          "text": [
            "60\n"
          ]
        }
      ]
    },
    {
      "cell_type": "code",
      "metadata": {
        "id": "pmWr_0cMW6vJ"
      },
      "source": [
        "knn = KNeighborsClassifier(n_neighbors = 60)\n",
        "knn.fit(X_train, y_train)\n",
        "y_predict = knn.predict(X_test)"
      ],
      "execution_count": null,
      "outputs": []
    },
    {
      "cell_type": "code",
      "metadata": {
        "colab": {
          "base_uri": "https://localhost:8080/"
        },
        "id": "08jXr3FqQm4u",
        "outputId": "bfd607dd-e9d5-449f-91ba-a492fa3e54fe"
      },
      "source": [
        "cm = confusion_matrix(y_test, y_predict)\n",
        "fig, (ax) = plt.subplots(1, 1, figsize=(8,7))\n",
        "sns.heatmap(cm, annot=True, ax = ax,fmt='g')\n",
        "# labels, title and ticks\n",
        "ax.set_xlabel('Predicted labels')\n",
        "ax.set_ylabel('True labels');\n",
        "ax.set_title('Confusion Matrix')\n",
        "sns.set(font_scale=1.5)\n",
        "ax.xaxis.set_ticklabels(['0', '1'])\n",
        "ax.yaxis.set_ticklabels(['0', '1'])\n",
        "plt.show()"
      ],
      "execution_count": null,
      "outputs": [
        {
          "data": {
            "image/png": "[encoded data removed]",
            "text/plain": [
              "<Figure size 576x504 with 2 Axes>"
            ]
          },
          "metadata": {},
          "output_type": "display_data"
        }
      ]
    },
    {
      "cell_type": "code",
      "metadata": {
        "colab": {
          "base_uri": "https://localhost:8080/"
        },
        "id": "iYDJFEfTYZIU",
        "outputId": "e0944eb3-ee4c-4655-9e2b-534874e7b9b0"
      },
      "source": [
        "y_pred1 = knn.predict(X_test)\n",
        "print('KNN de k = 60:')\n",
        "print(classification_report(y_test, y_pred1))"
      ],
      "execution_count": null,
      "outputs": [
        {
          "name": "stdout",
          "output_type": "stream",
          "text": [
            "KNN de k = 60:\n",
            "              precision    recall  f1-score   support\n",
            "\n",
            "         0.0       0.75      1.00      0.86      3584\n",
            "         1.0       0.63      0.01      0.02      1206\n",
            "\n",
            "    accuracy                           0.75      4790\n",
            "   macro avg       0.69      0.50      0.44      4790\n",
            "weighted avg       0.72      0.75      0.65      4790\n",
            "\n"
          ]
        }
      ]
    },
    {
      "cell_type": "code",
      "metadata": {
        "id": "mx11vw33beeo"
      },
      "source": [
        "k_range = range(1, 80)\n",
        "f1_0 = []\n",
        "f1_1 = []\n",
        "tp, fn, fp, tn = (1,1,1,1)\n",
        "\n",
        "# Deixei os f1 scores pela metade para não ficarem tão distantes no gráfico\n",
        "# e poder visualizar melhor\n",
        "\n",
        "def f1_p (tp,fp,fn):\n",
        "  precision_p = tp/(tp+fp)\n",
        "  recall_p = tp/(tp+fn)\n",
        "  f1_p = 2*(precision_p*recall_p)/(precision_p + recall_p)\n",
        "  return f1_p\n",
        "\n",
        "def f1_n (tn,fn,fp):\n",
        "  precision_n = tn/(tn+fn)\n",
        "  recall_n = tn/(tn+fp)\n",
        "  f1_n = 2*(precision_n*recall_n)/(precision_n + recall_n)\n",
        "  return f1_n\n",
        "\n",
        "for k in k_range:\n",
        "  model = KNeighborsClassifier(n_neighbors = k)\n",
        "  model.fit(X_train, y_train)\n",
        "  y_predict = model.predict(X_test)\n",
        "  tp, fn, fp, tn = confusion_matrix(y_test, y_predict).ravel()\n",
        "  a = f1_p(tp, fp, fn)\n",
        "  b = f1_n(tn, fn, fp)\n",
        "\n",
        "  f1_0.append(a)\n",
        "  f1_1.append(b)"
      ],
      "execution_count": null,
      "outputs": []
    },
    {
      "cell_type": "code",
      "metadata": {
        "colab": {
          "base_uri": "https://localhost:8080/"
        },
        "id": "n2YVuuH7eKQb",
        "outputId": "f72093f7-5800-41a9-96cd-54696e9730af"
      },
      "source": [
        "plt.figure(figsize = (10, 10))\n",
        "curva_1, = plt.plot(k_range, f1_1)\n",
        "curva_2, = plt.plot(k_range, f1_0)\n",
        "\n",
        "plt.show()"
      ],
      "execution_count": null,
      "outputs": [
        {
          "data": {
            "image/png": "[encoded data removed]",
            "text/plain": [
              "<Figure size 720x720 with 1 Axes>"
            ]
          },
          "metadata": {},
          "output_type": "display_data"
        }
      ]
    },
    {
      "cell_type": "code",
      "metadata": {
        "id": "x-Ccx8WFZUes"
      },
      "source": [
        "# Com base no gráfico acima, decido botar k = 3\n",
        "\n",
        "knn = KNeighborsClassifier(n_neighbors = 3)\n",
        "knn.fit(X_train, y_train)\n",
        "y_predict = knn.predict(X_test)"
      ],
      "execution_count": null,
      "outputs": []
    },
    {
      "cell_type": "code",
      "metadata": {
        "colab": {
          "base_uri": "https://localhost:8080/"
        },
        "id": "Eddldq3UZh9D",
        "outputId": "cd42775e-0c6d-4181-858b-408da3313a96"
      },
      "source": [
        "cm = confusion_matrix(y_test, y_predict)\n",
        "fig, (ax) = plt.subplots(1, 1, figsize=(8,7))\n",
        "sns.heatmap(cm, annot=True, ax = ax,fmt='g')\n",
        "# labels, title and ticks\n",
        "ax.set_xlabel('Predicted labels')\n",
        "ax.set_ylabel('True labels');\n",
        "ax.set_title('Confusion Matrix')\n",
        "sns.set(font_scale=1.5)\n",
        "ax.xaxis.set_ticklabels(['0', '1'])\n",
        "ax.yaxis.set_ticklabels(['0', '1'])\n",
        "plt.show()"
      ],
      "execution_count": null,
      "outputs": [
        {
          "data": {
            "image/png": "[encoded data removed]",
            "text/plain": [
              "<Figure size 576x504 with 2 Axes>"
            ]
          },
          "metadata": {},
          "output_type": "display_data"
        }
      ]
    },
    {
      "cell_type": "code",
      "metadata": {
        "colab": {
          "base_uri": "https://localhost:8080/"
        },
        "id": "IZHz-0XUf6ut",
        "outputId": "4d5b8372-6e27-43c6-f4b6-100185b60290"
      },
      "source": [
        "y_pred1 = knn.predict(X_test)\n",
        "print('KNN:')\n",
        "print(classification_report(y_test, y_pred1))"
      ],
      "execution_count": null,
      "outputs": [
        {
          "name": "stdout",
          "output_type": "stream",
          "text": [
            "KNN:\n",
            "              precision    recall  f1-score   support\n",
            "\n",
            "         0.0       0.75      0.84      0.79      3584\n",
            "         1.0       0.26      0.17      0.21      1206\n",
            "\n",
            "    accuracy                           0.67      4790\n",
            "   macro avg       0.51      0.51      0.50      4790\n",
            "weighted avg       0.63      0.67      0.64      4790\n",
            "\n"
          ]
        }
      ]
    },
    {
      "cell_type": "markdown",
      "metadata": {
        "id": "nfsdXVuq0yxo"
      },
      "source": [
        "## Naive Bayes"
      ]
    },
    {
      "cell_type": "code",
      "metadata": {
        "id": "tpUHdJxd0xd5"
      },
      "source": [
        "from sklearn.naive_bayes import GaussianNB"
      ],
      "execution_count": null,
      "outputs": []
    },
    {
      "cell_type": "code",
      "metadata": {
        "id": "hYqBZ_m96_P9"
      },
      "source": [
        "GNB = GaussianNB()\n",
        "GNB.fit(X_train, y_train)\n",
        "y_predict = GNB.predict(X_test)"
      ],
      "execution_count": null,
      "outputs": []
    },
    {
      "cell_type": "code",
      "metadata": {
        "colab": {
          "base_uri": "https://localhost:8080/"
        },
        "id": "TCwKDT8a7A5l",
        "outputId": "2f58ae10-4b2c-487c-aa38-bdfe19ee1934"
      },
      "source": [
        "cm = confusion_matrix(y_test, y_predict)\n",
        "fig, (ax) = plt.subplots(1, 1, figsize=(8,7))\n",
        "sns.heatmap(cm, annot=True, ax = ax,fmt='g')\n",
        "# labels, title and ticks\n",
        "ax.set_xlabel('Predicted labels')\n",
        "ax.set_ylabel('True labels');\n",
        "ax.set_title('Confusion Matrix')\n",
        "sns.set(font_scale=1.5)\n",
        "ax.xaxis.set_ticklabels(['0', '1'])\n",
        "ax.yaxis.set_ticklabels(['0', '1'])\n",
        "plt.show()"
      ],
      "execution_count": null,
      "outputs": [
        {
          "data": {
            "image/png": "[encoded data removed]",
            "text/plain": [
              "<Figure size 576x504 with 2 Axes>"
            ]
          },
          "metadata": {},
          "output_type": "display_data"
        }
      ]
    },
    {
      "cell_type": "code",
      "metadata": {
        "colab": {
          "base_uri": "https://localhost:8080/"
        },
        "id": "1kGNx6T_7koT",
        "outputId": "11b27132-2c23-4b2b-e852-ebb025a7819d"
      },
      "source": [
        "y_pred1 = GNB.predict(X_test)\n",
        "print('GNB:')\n",
        "print(classification_report(y_test, y_pred1))"
      ],
      "execution_count": null,
      "outputs": [
        {
          "name": "stdout",
          "output_type": "stream",
          "text": [
            "GNB:\n",
            "              precision    recall  f1-score   support\n",
            "\n",
            "         0.0       0.86      0.72      0.78      3584\n",
            "         1.0       0.44      0.66      0.53      1206\n",
            "\n",
            "    accuracy                           0.70      4790\n",
            "   macro avg       0.65      0.69      0.66      4790\n",
            "weighted avg       0.76      0.70      0.72      4790\n",
            "\n"
          ]
        }
      ]
    },
    {
      "cell_type": "markdown",
      "metadata": {
        "id": "xrxOTrP6EwP3"
      },
      "source": [
        "## SVM (Suport Vector Machine)"
      ]
    },
    {
      "cell_type": "code",
      "metadata": {
        "id": "he4Cm4zEE1OP"
      },
      "source": [
        "from sklearn import svm"
      ],
      "execution_count": 28,
      "outputs": []
    },
    {
      "cell_type": "markdown",
      "metadata": {
        "id": "KQHoD7FCQmPg"
      },
      "source": [
        "### SVC, kernel = rbf"
      ]
    },
    {
      "cell_type": "code",
      "metadata": {
        "id": "EEmYC-fHH1-6"
      },
      "source": [
        "# Instanciação do classificador: Support Vector Classifier\n",
        "# Parametro C define a regularização, quanto maior mais rigida será a margem. \n",
        "SVC_rbf = svm.SVC(C = 1E9, kernel = \"rbf\")\n",
        "SVC_rbf.fit(X_train, y_train)\n",
        "y_predict = SVC_rbf.predict(X_test)"
      ],
      "execution_count": 29,
      "outputs": []
    },
    {
      "cell_type": "code",
      "metadata": {
        "colab": {
          "base_uri": "https://localhost:8080/",
          "height": 380
        },
        "id": "FWgl_7qJOh6K",
        "outputId": "793d7d8d-9496-44a3-9e67-dbfb6d29b4e6"
      },
      "source": [
        "cm = confusion_matrix(y_test, y_predict)\n",
        "fig, (ax) = plt.subplots(1, 1, figsize=(8,7))\n",
        "sns.heatmap(cm, annot=True, ax = ax,fmt='g')\n",
        "# labels, title and ticks\n",
        "ax.set_xlabel('Predicted labels')\n",
        "ax.set_ylabel('True labels');\n",
        "ax.set_title('Confusion Matrix')\n",
        "sns.set(font_scale=1.5)\n",
        "ax.xaxis.set_ticklabels(['0', '1'])\n",
        "ax.yaxis.set_ticklabels(['0', '1'])\n",
        "plt.show()"
      ],
      "execution_count": null,
      "outputs": [
        {
          "output_type": "error",
          "ename": "ValueError",
          "evalue": "ignored",
          "traceback": [
            "\u001b[0;31m---------------------------------------------------------------------------\u001b[0m",
            "\u001b[0;31mValueError\u001b[0m                                Traceback (most recent call last)",
            "\u001b[0;32m<ipython-input-115-b020eea7b31c>\u001b[0m in \u001b[0;36m<module>\u001b[0;34m()\u001b[0m\n\u001b[0;32m----> 1\u001b[0;31m \u001b[0mcm\u001b[0m \u001b[0;34m=\u001b[0m \u001b[0mconfusion_matrix\u001b[0m\u001b[0;34m(\u001b[0m\u001b[0my_test\u001b[0m\u001b[0;34m,\u001b[0m \u001b[0my_predict\u001b[0m\u001b[0;34m)\u001b[0m\u001b[0;34m\u001b[0m\u001b[0;34m\u001b[0m\u001b[0m\n\u001b[0m\u001b[1;32m      2\u001b[0m \u001b[0mfig\u001b[0m\u001b[0;34m,\u001b[0m \u001b[0;34m(\u001b[0m\u001b[0max\u001b[0m\u001b[0;34m)\u001b[0m \u001b[0;34m=\u001b[0m \u001b[0mplt\u001b[0m\u001b[0;34m.\u001b[0m\u001b[0msubplots\u001b[0m\u001b[0;34m(\u001b[0m\u001b[0;36m1\u001b[0m\u001b[0;34m,\u001b[0m \u001b[0;36m1\u001b[0m\u001b[0;34m,\u001b[0m \u001b[0mfigsize\u001b[0m\u001b[0;34m=\u001b[0m\u001b[0;34m(\u001b[0m\u001b[0;36m8\u001b[0m\u001b[0;34m,\u001b[0m\u001b[0;36m7\u001b[0m\u001b[0;34m)\u001b[0m\u001b[0;34m)\u001b[0m\u001b[0;34m\u001b[0m\u001b[0;34m\u001b[0m\u001b[0m\n\u001b[1;32m      3\u001b[0m \u001b[0msns\u001b[0m\u001b[0;34m.\u001b[0m\u001b[0mheatmap\u001b[0m\u001b[0;34m(\u001b[0m\u001b[0mcm\u001b[0m\u001b[0;34m,\u001b[0m \u001b[0mannot\u001b[0m\u001b[0;34m=\u001b[0m\u001b[0;32mTrue\u001b[0m\u001b[0;34m,\u001b[0m \u001b[0max\u001b[0m \u001b[0;34m=\u001b[0m \u001b[0max\u001b[0m\u001b[0;34m,\u001b[0m\u001b[0mfmt\u001b[0m\u001b[0;34m=\u001b[0m\u001b[0;34m'g'\u001b[0m\u001b[0;34m)\u001b[0m\u001b[0;34m\u001b[0m\u001b[0;34m\u001b[0m\u001b[0m\n\u001b[1;32m      4\u001b[0m \u001b[0;31m# labels, title and ticks\u001b[0m\u001b[0;34m\u001b[0m\u001b[0;34m\u001b[0m\u001b[0;34m\u001b[0m\u001b[0m\n\u001b[1;32m      5\u001b[0m \u001b[0max\u001b[0m\u001b[0;34m.\u001b[0m\u001b[0mset_xlabel\u001b[0m\u001b[0;34m(\u001b[0m\u001b[0;34m'Predicted labels'\u001b[0m\u001b[0;34m)\u001b[0m\u001b[0;34m\u001b[0m\u001b[0;34m\u001b[0m\u001b[0m\n",
            "\u001b[0;32m/usr/local/lib/python3.7/dist-packages/sklearn/metrics/_classification.py\u001b[0m in \u001b[0;36mconfusion_matrix\u001b[0;34m(y_true, y_pred, labels, sample_weight, normalize)\u001b[0m\n\u001b[1;32m    300\u001b[0m \u001b[0;34m\u001b[0m\u001b[0m\n\u001b[1;32m    301\u001b[0m     \"\"\"\n\u001b[0;32m--> 302\u001b[0;31m     \u001b[0my_type\u001b[0m\u001b[0;34m,\u001b[0m \u001b[0my_true\u001b[0m\u001b[0;34m,\u001b[0m \u001b[0my_pred\u001b[0m \u001b[0;34m=\u001b[0m \u001b[0m_check_targets\u001b[0m\u001b[0;34m(\u001b[0m\u001b[0my_true\u001b[0m\u001b[0;34m,\u001b[0m \u001b[0my_pred\u001b[0m\u001b[0;34m)\u001b[0m\u001b[0;34m\u001b[0m\u001b[0;34m\u001b[0m\u001b[0m\n\u001b[0m\u001b[1;32m    303\u001b[0m     \u001b[0;32mif\u001b[0m \u001b[0my_type\u001b[0m \u001b[0;32mnot\u001b[0m \u001b[0;32min\u001b[0m \u001b[0;34m(\u001b[0m\u001b[0;34m\"binary\"\u001b[0m\u001b[0;34m,\u001b[0m \u001b[0;34m\"multiclass\"\u001b[0m\u001b[0;34m)\u001b[0m\u001b[0;34m:\u001b[0m\u001b[0;34m\u001b[0m\u001b[0;34m\u001b[0m\u001b[0m\n\u001b[1;32m    304\u001b[0m         \u001b[0;32mraise\u001b[0m \u001b[0mValueError\u001b[0m\u001b[0;34m(\u001b[0m\u001b[0;34m\"%s is not supported\"\u001b[0m \u001b[0;34m%\u001b[0m \u001b[0my_type\u001b[0m\u001b[0;34m)\u001b[0m\u001b[0;34m\u001b[0m\u001b[0;34m\u001b[0m\u001b[0m\n",
            "\u001b[0;32m/usr/local/lib/python3.7/dist-packages/sklearn/metrics/_classification.py\u001b[0m in \u001b[0;36m_check_targets\u001b[0;34m(y_true, y_pred)\u001b[0m\n\u001b[1;32m     83\u001b[0m     \"\"\"\n\u001b[1;32m     84\u001b[0m     \u001b[0mcheck_consistent_length\u001b[0m\u001b[0;34m(\u001b[0m\u001b[0my_true\u001b[0m\u001b[0;34m,\u001b[0m \u001b[0my_pred\u001b[0m\u001b[0;34m)\u001b[0m\u001b[0;34m\u001b[0m\u001b[0;34m\u001b[0m\u001b[0m\n\u001b[0;32m---> 85\u001b[0;31m     \u001b[0mtype_true\u001b[0m \u001b[0;34m=\u001b[0m \u001b[0mtype_of_target\u001b[0m\u001b[0;34m(\u001b[0m\u001b[0my_true\u001b[0m\u001b[0;34m)\u001b[0m\u001b[0;34m\u001b[0m\u001b[0;34m\u001b[0m\u001b[0m\n\u001b[0m\u001b[1;32m     86\u001b[0m     \u001b[0mtype_pred\u001b[0m \u001b[0;34m=\u001b[0m \u001b[0mtype_of_target\u001b[0m\u001b[0;34m(\u001b[0m\u001b[0my_pred\u001b[0m\u001b[0;34m)\u001b[0m\u001b[0;34m\u001b[0m\u001b[0;34m\u001b[0m\u001b[0m\n\u001b[1;32m     87\u001b[0m \u001b[0;34m\u001b[0m\u001b[0m\n",
            "\u001b[0;32m/usr/local/lib/python3.7/dist-packages/sklearn/utils/multiclass.py\u001b[0m in \u001b[0;36mtype_of_target\u001b[0;34m(y)\u001b[0m\n\u001b[1;32m    323\u001b[0m     \u001b[0;32mif\u001b[0m \u001b[0my\u001b[0m\u001b[0;34m.\u001b[0m\u001b[0mdtype\u001b[0m\u001b[0;34m.\u001b[0m\u001b[0mkind\u001b[0m \u001b[0;34m==\u001b[0m \u001b[0;34m\"f\"\u001b[0m \u001b[0;32mand\u001b[0m \u001b[0mnp\u001b[0m\u001b[0;34m.\u001b[0m\u001b[0many\u001b[0m\u001b[0;34m(\u001b[0m\u001b[0my\u001b[0m \u001b[0;34m!=\u001b[0m \u001b[0my\u001b[0m\u001b[0;34m.\u001b[0m\u001b[0mastype\u001b[0m\u001b[0;34m(\u001b[0m\u001b[0mint\u001b[0m\u001b[0;34m)\u001b[0m\u001b[0;34m)\u001b[0m\u001b[0;34m:\u001b[0m\u001b[0;34m\u001b[0m\u001b[0;34m\u001b[0m\u001b[0m\n\u001b[1;32m    324\u001b[0m         \u001b[0;31m# [.1, .2, 3] or [[.1, .2, 3]] or [[1., .2]] and not [1., 2., 3.]\u001b[0m\u001b[0;34m\u001b[0m\u001b[0;34m\u001b[0m\u001b[0;34m\u001b[0m\u001b[0m\n\u001b[0;32m--> 325\u001b[0;31m         \u001b[0m_assert_all_finite\u001b[0m\u001b[0;34m(\u001b[0m\u001b[0my\u001b[0m\u001b[0;34m)\u001b[0m\u001b[0;34m\u001b[0m\u001b[0;34m\u001b[0m\u001b[0m\n\u001b[0m\u001b[1;32m    326\u001b[0m         \u001b[0;32mreturn\u001b[0m \u001b[0;34m\"continuous\"\u001b[0m \u001b[0;34m+\u001b[0m \u001b[0msuffix\u001b[0m\u001b[0;34m\u001b[0m\u001b[0;34m\u001b[0m\u001b[0m\n\u001b[1;32m    327\u001b[0m \u001b[0;34m\u001b[0m\u001b[0m\n",
            "\u001b[0;32m/usr/local/lib/python3.7/dist-packages/sklearn/utils/validation.py\u001b[0m in \u001b[0;36m_assert_all_finite\u001b[0;34m(X, allow_nan, msg_dtype)\u001b[0m\n\u001b[1;32m    114\u001b[0m             raise ValueError(\n\u001b[1;32m    115\u001b[0m                 msg_err.format(\n\u001b[0;32m--> 116\u001b[0;31m                     \u001b[0mtype_err\u001b[0m\u001b[0;34m,\u001b[0m \u001b[0mmsg_dtype\u001b[0m \u001b[0;32mif\u001b[0m \u001b[0mmsg_dtype\u001b[0m \u001b[0;32mis\u001b[0m \u001b[0;32mnot\u001b[0m \u001b[0;32mNone\u001b[0m \u001b[0;32melse\u001b[0m \u001b[0mX\u001b[0m\u001b[0;34m.\u001b[0m\u001b[0mdtype\u001b[0m\u001b[0;34m\u001b[0m\u001b[0;34m\u001b[0m\u001b[0m\n\u001b[0m\u001b[1;32m    117\u001b[0m                 )\n\u001b[1;32m    118\u001b[0m             )\n",
            "\u001b[0;31mValueError\u001b[0m: Input contains NaN, infinity or a value too large for dtype('float64')."
          ]
        }
      ]
    },
    {
      "cell_type": "code",
      "metadata": {
        "id": "wkpDXcRCPAr7"
      },
      "source": [
        "y_pred1 = SVC_rbf.predict(X_test)\n",
        "print('SVC_rbf:')\n",
        "print(classification_report(y_test, y_pred1))"
      ],
      "execution_count": null,
      "outputs": []
    },
    {
      "cell_type": "markdown",
      "metadata": {
        "id": "L5F50PgjQ7DW"
      },
      "source": [
        "### SVC, kernel = poly"
      ]
    },
    {
      "cell_type": "code",
      "metadata": {
        "id": "9fWAEJOTQjuT"
      },
      "source": [
        "SVC_poly = svm.SVC(C = 1E9, kernel = \"poly\")\n",
        "SVC_poly.fit(X_train, y_train)\n",
        "y_predict = SVC_poly.predict(X_test)"
      ],
      "execution_count": null,
      "outputs": []
    },
    {
      "cell_type": "code",
      "metadata": {
        "id": "njiQcleHT0M5"
      },
      "source": [
        "cm = confusion_matrix(y_test, y_predict)\n",
        "fig, (ax) = plt.subplots(1, 1, figsize=(8,7))\n",
        "sns.heatmap(cm, annot=True, ax = ax,fmt='g')\n",
        "# labels, title and ticks\n",
        "ax.set_xlabel('Predicted labels')\n",
        "ax.set_ylabel('True labels');\n",
        "ax.set_title('Confusion Matrix')\n",
        "sns.set(font_scale=1.5)\n",
        "ax.xaxis.set_ticklabels(['0', '1'])\n",
        "ax.yaxis.set_ticklabels(['0', '1'])\n",
        "plt.show()"
      ],
      "execution_count": null,
      "outputs": []
    },
    {
      "cell_type": "code",
      "metadata": {
        "id": "miU6QXlmS-ya"
      },
      "source": [
        "y_pred1 = SVC_poly.predict(X_test)\n",
        "print('SVC_poly:')\n",
        "print(classification_report(y_test, y_pred1))"
      ],
      "execution_count": null,
      "outputs": []
    },
    {
      "cell_type": "markdown",
      "metadata": {
        "id": "jFRDnO78RAJ2"
      },
      "source": [
        "### SVC, kernel = sigmoid"
      ]
    },
    {
      "cell_type": "code",
      "metadata": {
        "id": "PEw5GIujRfSs"
      },
      "source": [
        "SVC_sig = svm.SVC(C = 1E9, kernel = \"sigmoid\")\n",
        "SVC_sig.fit(X_train, y_train)\n",
        "y_predict = SVC_sig.predict(X_test)"
      ],
      "execution_count": null,
      "outputs": []
    },
    {
      "cell_type": "code",
      "metadata": {
        "id": "-DSGtQ49fIl6"
      },
      "source": [
        "cm = confusion_matrix(y_test, y_predict)\n",
        "fig, (ax) = plt.subplots(1, 1, figsize=(8,7))\n",
        "sns.heatmap(cm, annot=True, ax = ax,fmt='g')\n",
        "# labels, title and ticks\n",
        "ax.set_xlabel('Predicted labels')\n",
        "ax.set_ylabel('True labels');\n",
        "ax.set_title('Confusion Matrix')\n",
        "sns.set(font_scale=1.5)\n",
        "ax.xaxis.set_ticklabels(['0', '1'])\n",
        "ax.yaxis.set_ticklabels(['0', '1'])\n",
        "plt.show()"
      ],
      "execution_count": null,
      "outputs": []
    },
    {
      "cell_type": "code",
      "metadata": {
        "id": "C2KtrVNWfKkL"
      },
      "source": [
        "y_pred1 = SVC_sig.predict(X_test)\n",
        "print('SVC_sig:')\n",
        "print(classification_report(y_test, y_pred1))"
      ],
      "execution_count": null,
      "outputs": []
    },
    {
      "cell_type": "markdown",
      "metadata": {
        "id": "oqsiEns0RG5N"
      },
      "source": [
        "### SVC, kernel = linear\n",
        "\n",
        "\n"
      ]
    },
    {
      "cell_type": "markdown",
      "metadata": {
        "id": "yhIOzfQIAYeu"
      },
      "source": [
        "One vs One"
      ]
    },
    {
      "cell_type": "code",
      "metadata": {
        "id": "sadpW6FZRSvN"
      },
      "source": [
        "#SVC_linear = svm.SVC(C = 1E9, kernel = \"linear\")\n",
        "#SVC_linear.fit(X_train, y_train)\n",
        "#y_predict = SVC_linear.predict(X_test)\n",
        "\n",
        "# 2h de duração e não foi concluído, pos o tempo de execução de encerrou."
      ],
      "execution_count": 30,
      "outputs": []
    },
    {
      "cell_type": "markdown",
      "metadata": {
        "id": "cYtxUUCIAQ-a"
      },
      "source": [
        "LinearSVC, kernel = linear (one vs all)"
      ]
    },
    {
      "cell_type": "code",
      "metadata": {
        "id": "GQpLMyM0Repl",
        "colab": {
          "base_uri": "https://localhost:8080/"
        },
        "outputId": "79935cad-8fa5-49ee-e3eb-8081ce19f598"
      },
      "source": [
        "SVC_linear = svm.LinearSVC(C = 1E9, max_iter = 1E6)\n",
        "SVC_linear.fit(X_train, y_train)\n",
        "y_predict = SVC_linear.predict(X_test)"
      ],
      "execution_count": 31,
      "outputs": [
        {
          "output_type": "stream",
          "name": "stderr",
          "text": [
            "/usr/local/lib/python3.7/dist-packages/sklearn/svm/_base.py:1208: ConvergenceWarning: Liblinear failed to converge, increase the number of iterations.\n",
            "  ConvergenceWarning,\n"
          ]
        }
      ]
    },
    {
      "cell_type": "code",
      "metadata": {
        "id": "QXrQPnQcIw13",
        "colab": {
          "base_uri": "https://localhost:8080/",
          "height": 458
        },
        "outputId": "17031afe-21e1-4424-f194-d6492b72f274"
      },
      "source": [
        "cm = confusion_matrix(y_test, y_predict)\n",
        "fig, (ax) = plt.subplots(1, 1, figsize=(8,7))\n",
        "sns.heatmap(cm, annot=True, ax = ax,fmt='g')\n",
        "# labels, title and ticks\n",
        "ax.set_xlabel('Predicted labels')\n",
        "ax.set_ylabel('True labels');\n",
        "ax.set_title('Confusion Matrix')\n",
        "sns.set(font_scale=1.5)\n",
        "ax.xaxis.set_ticklabels(['0', '1'])\n",
        "ax.yaxis.set_ticklabels(['0', '1'])\n",
        "plt.show()"
      ],
      "execution_count": 32,
      "outputs": [
        {
          "output_type": "display_data",
          "data": {
            "image/png": "[encoded data removed]",
            "text/plain": [
              "<Figure size 576x504 with 2 Axes>"
            ]
          },
          "metadata": {
            "needs_background": "light"
          }
        }
      ]
    },
    {
      "cell_type": "code",
      "metadata": {
        "id": "znblXAfsI0mr",
        "colab": {
          "base_uri": "https://localhost:8080/"
        },
        "outputId": "8f3047c0-b959-47df-abf8-cc135b2e644c"
      },
      "source": [
        "y_pred1 = SVC_linear.predict(X_test)\n",
        "print('SVC_linear:')\n",
        "print(classification_report(y_test, y_pred1))"
      ],
      "execution_count": 33,
      "outputs": [
        {
          "output_type": "stream",
          "name": "stdout",
          "text": [
            "SVC_linear:\n",
            "              precision    recall  f1-score   support\n",
            "\n",
            "         0.0       0.75      1.00      0.86      3584\n",
            "         1.0       0.53      0.01      0.02      1206\n",
            "\n",
            "    accuracy                           0.75      4790\n",
            "   macro avg       0.64      0.50      0.44      4790\n",
            "weighted avg       0.69      0.75      0.64      4790\n",
            "\n"
          ]
        }
      ]
    },
    {
      "cell_type": "markdown",
      "metadata": {
        "id": "WXDi37naRFhO"
      },
      "source": [
        "### Logistic Regression\n"
      ]
    },
    {
      "cell_type": "code",
      "metadata": {
        "id": "5611Z5BuRIH6"
      },
      "source": [
        "from sklearn.linear_model import LogisticRegression # segundo modelo que usaremos"
      ],
      "execution_count": null,
      "outputs": []
    },
    {
      "cell_type": "code",
      "metadata": {
        "id": "mLsPOVhcZ0ii"
      },
      "source": [
        "logreg = LogisticRegression()\n",
        "logreg.fit(X_train, y_train)"
      ],
      "execution_count": null,
      "outputs": []
    },
    {
      "cell_type": "code",
      "metadata": {
        "id": "Xojg-TAPRZOk"
      },
      "source": [
        "y_train_predict = logreg.predict(X_train)\n",
        "y_test_predict = logreg.predict(X_test)\n",
        "\n",
        "print(f'Acurácio no teste: {accuracy_score(y_test, y_test_predict):}')"
      ],
      "execution_count": null,
      "outputs": []
    },
    {
      "cell_type": "markdown",
      "metadata": {
        "id": "3648kmphZkzs"
      },
      "source": [
        "# Prevendo os resultados"
      ]
    },
    {
      "cell_type": "markdown",
      "metadata": {
        "id": "9vTTaKbZnXWW"
      },
      "source": [
        "Comparando as métricas de todos os modelos testados, o modelo com o melhor desempenho foi o Random Forest usando o método da entropia com os parâmetros de profundidade máxima igual a 37, o valor mínimo de amostra para dividir um ramo em dois sendo 51 e o nº de árvores sendo 200. Assim, decido usar esse modelo para a predição de \"target\" do dataset de teste."
      ]
    },
    {
      "cell_type": "code",
      "metadata": {
        "id": "6xcrG73soM6p"
      },
      "source": [
        "encoding_juntos_2 = pd.get_dummies(juntos_2)\n",
        "encoding_juntos_2"
      ],
      "execution_count": null,
      "outputs": []
    },
    {
      "cell_type": "code",
      "metadata": {
        "id": "Hp53kRntqbMV"
      },
      "source": [
        "train = encoding_juntos_2.iloc[:19158, :]\n",
        "test = encoding_juntos_2.iloc[19158:, :]\n",
        "test.reset_index(drop = True, inplace = True)"
      ],
      "execution_count": null,
      "outputs": []
    },
    {
      "cell_type": "code",
      "metadata": {
        "id": "ieTCK9OMlb5o"
      },
      "source": [
        "X_test = test.drop(\"target\", axis = 1)\n",
        "y_test = test[\"target\"]\n",
        "\n",
        "X_train = train.drop(\"target\", axis = 1)\n",
        "y_train = train[\"target\"]\n",
        "\n",
        "\n",
        "rf = RandomForestClassifier(\n",
        "    max_depth=37,\n",
        "    n_estimators=200,\n",
        "    min_samples_split=51,\n",
        "    criterion='entropy',\n",
        "    oob_score=True,\n",
        "    random_state=42\n",
        ")\n",
        "\n",
        "rf.fit(X_train, y_train)\n",
        "y_predict = rf.predict(X_test)\n",
        "y_predict"
      ],
      "execution_count": null,
      "outputs": []
    }
  ]
}